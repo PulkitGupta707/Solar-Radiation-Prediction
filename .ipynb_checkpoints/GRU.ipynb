{
  "nbformat": 4,
  "nbformat_minor": 0,
  "metadata": {
    "colab": {
      "name": "LSTM.ipynb",
      "provenance": []
    },
    "kernelspec": {
      "display_name": "Python 3",
      "language": "python",
      "name": "python3"
    },
    "language_info": {
      "codemirror_mode": {
        "name": "ipython",
        "version": 3
      },
      "file_extension": ".py",
      "mimetype": "text/x-python",
      "name": "python",
      "nbconvert_exporter": "python",
      "pygments_lexer": "ipython3",
      "version": "3.7.2"
    }
  },
  "cells": [
    {
      "cell_type": "code",
      "metadata": {
        "colab_type": "code",
        "id": "tngEAFl0smSl",
        "colab": {}
      },
      "source": [
        "import numpy as np\n",
        "import pandas as pd\n",
        "import matplotlib.pyplot as plt\n",
        "%matplotlib inline"
      ],
      "execution_count": 0,
      "outputs": []
    },
    {
      "cell_type": "code",
      "metadata": {
        "colab_type": "code",
        "id": "n5gOTzdcsmSw",
        "colab": {}
      },
      "source": [
        "data = pd.read_csv('SolarDelhi.csv',parse_dates = ['Date'], index_col = ['Date'])"
      ],
      "execution_count": 0,
      "outputs": []
    },
    {
      "cell_type": "code",
      "metadata": {
        "colab_type": "code",
        "id": "kQya00XVsmS2",
        "outputId": "142af8f2-d977-41ac-fc77-f17af63233e2",
        "colab": {
          "base_uri": "https://localhost:8080/",
          "height": 337
        }
      },
      "source": [
        "data.head()"
      ],
      "execution_count": 59,
      "outputs": [
        {
          "output_type": "execute_result",
          "data": {
            "text/html": [
              "<div>\n",
              "<style scoped>\n",
              "    .dataframe tbody tr th:only-of-type {\n",
              "        vertical-align: middle;\n",
              "    }\n",
              "\n",
              "    .dataframe tbody tr th {\n",
              "        vertical-align: top;\n",
              "    }\n",
              "\n",
              "    .dataframe thead th {\n",
              "        text-align: right;\n",
              "    }\n",
              "</style>\n",
              "<table border=\"1\" class=\"dataframe\">\n",
              "  <thead>\n",
              "    <tr style=\"text-align: right;\">\n",
              "      <th></th>\n",
              "      <th>Precipitation</th>\n",
              "      <th>Specific_Humidity</th>\n",
              "      <th>Surface Pressure</th>\n",
              "      <th>Surface_Temperature</th>\n",
              "      <th>Clearness_Index</th>\n",
              "      <th>Radiative_Flux</th>\n",
              "      <th>Radiation</th>\n",
              "    </tr>\n",
              "    <tr>\n",
              "      <th>Date</th>\n",
              "      <th></th>\n",
              "      <th></th>\n",
              "      <th></th>\n",
              "      <th></th>\n",
              "      <th></th>\n",
              "      <th></th>\n",
              "      <th></th>\n",
              "    </tr>\n",
              "  </thead>\n",
              "  <tbody>\n",
              "    <tr>\n",
              "      <th>1986-01-01</th>\n",
              "      <td>0.0</td>\n",
              "      <td>0.003804</td>\n",
              "      <td>99.05</td>\n",
              "      <td>11.48</td>\n",
              "      <td>0.68</td>\n",
              "      <td>6.50</td>\n",
              "      <td>3.97</td>\n",
              "    </tr>\n",
              "    <tr>\n",
              "      <th>1986-02-01</th>\n",
              "      <td>0.0</td>\n",
              "      <td>0.003457</td>\n",
              "      <td>99.06</td>\n",
              "      <td>12.04</td>\n",
              "      <td>0.76</td>\n",
              "      <td>6.36</td>\n",
              "      <td>4.42</td>\n",
              "    </tr>\n",
              "    <tr>\n",
              "      <th>1986-03-01</th>\n",
              "      <td>0.0</td>\n",
              "      <td>0.002902</td>\n",
              "      <td>99.23</td>\n",
              "      <td>9.92</td>\n",
              "      <td>0.73</td>\n",
              "      <td>6.50</td>\n",
              "      <td>4.29</td>\n",
              "    </tr>\n",
              "    <tr>\n",
              "      <th>1986-04-01</th>\n",
              "      <td>0.0</td>\n",
              "      <td>0.002433</td>\n",
              "      <td>99.17</td>\n",
              "      <td>9.33</td>\n",
              "      <td>0.72</td>\n",
              "      <td>6.18</td>\n",
              "      <td>4.19</td>\n",
              "    </tr>\n",
              "    <tr>\n",
              "      <th>1986-05-01</th>\n",
              "      <td>0.0</td>\n",
              "      <td>0.002600</td>\n",
              "      <td>99.00</td>\n",
              "      <td>9.36</td>\n",
              "      <td>0.75</td>\n",
              "      <td>6.57</td>\n",
              "      <td>4.39</td>\n",
              "    </tr>\n",
              "  </tbody>\n",
              "</table>\n",
              "</div>"
            ],
            "text/plain": [
              "            Precipitation  Specific_Humidity  ...  Radiative_Flux  Radiation\n",
              "Date                                          ...                           \n",
              "1986-01-01            0.0           0.003804  ...            6.50       3.97\n",
              "1986-02-01            0.0           0.003457  ...            6.36       4.42\n",
              "1986-03-01            0.0           0.002902  ...            6.50       4.29\n",
              "1986-04-01            0.0           0.002433  ...            6.18       4.19\n",
              "1986-05-01            0.0           0.002600  ...            6.57       4.39\n",
              "\n",
              "[5 rows x 7 columns]"
            ]
          },
          "metadata": {
            "tags": []
          },
          "execution_count": 59
        }
      ]
    },
    {
      "cell_type": "code",
      "metadata": {
        "colab_type": "code",
        "id": "xprqvcOVsmTI",
        "colab": {}
      },
      "source": [
        "import numpy as np # linear algebra\n",
        "from scipy import stats # statistics\n",
        "import pandas as pd # data processing, CSV file I/O (e.g. pd.read_csv)\n",
        "import matplotlib.pyplot as plt # plotting tools\n",
        "import seaborn as sns # advanced plotting tools\n",
        "sns.set(style=\"white\")\n",
        "%matplotlib inline\n",
        "def corrPairs(df):\n",
        "    #Pairwise correlation matrix\n",
        "    corr = df.corr() # Compute the correlation matrix\n",
        "    mask = np.zeros_like(corr, dtype=np.bool) # make mask\n",
        "    mask[np.triu_indices_from(mask)] = True # mask upper triangle\n",
        "    sns.heatmap(corr, mask=mask, cmap='coolwarm', center=0, square=True, linewidths=.3, annot=True, cbar=False)\n",
        "\n",
        "#data['WeekOfYear'] = data.index.Date # add week to view correlation\n",
        "\n",
        "plt.figure(figsize=(15,15))\n",
        "corrPairs(data)"
      ],
      "execution_count": 0,
      "outputs": []
    },
    {
      "cell_type": "code",
      "metadata": {
        "id": "OiMHhViFf_y0",
        "colab_type": "code",
        "outputId": "bc7e8fe9-fb39-41d4-ad9d-5ba6533e7940",
        "colab": {
          "base_uri": "https://localhost:8080/",
          "height": 303
        }
      },
      "source": [
        "data.corr()"
      ],
      "execution_count": 61,
      "outputs": [
        {
          "output_type": "execute_result",
          "data": {
            "text/html": [
              "<div>\n",
              "<style scoped>\n",
              "    .dataframe tbody tr th:only-of-type {\n",
              "        vertical-align: middle;\n",
              "    }\n",
              "\n",
              "    .dataframe tbody tr th {\n",
              "        vertical-align: top;\n",
              "    }\n",
              "\n",
              "    .dataframe thead th {\n",
              "        text-align: right;\n",
              "    }\n",
              "</style>\n",
              "<table border=\"1\" class=\"dataframe\">\n",
              "  <thead>\n",
              "    <tr style=\"text-align: right;\">\n",
              "      <th></th>\n",
              "      <th>Precipitation</th>\n",
              "      <th>Specific_Humidity</th>\n",
              "      <th>Surface Pressure</th>\n",
              "      <th>Surface_Temperature</th>\n",
              "      <th>Clearness_Index</th>\n",
              "      <th>Radiative_Flux</th>\n",
              "      <th>Radiation</th>\n",
              "    </tr>\n",
              "  </thead>\n",
              "  <tbody>\n",
              "    <tr>\n",
              "      <th>Precipitation</th>\n",
              "      <td>1.000000</td>\n",
              "      <td>0.452469</td>\n",
              "      <td>-0.265497</td>\n",
              "      <td>0.115499</td>\n",
              "      <td>-0.458199</td>\n",
              "      <td>0.325617</td>\n",
              "      <td>-0.231088</td>\n",
              "    </tr>\n",
              "    <tr>\n",
              "      <th>Specific_Humidity</th>\n",
              "      <td>0.452469</td>\n",
              "      <td>1.000000</td>\n",
              "      <td>-0.676242</td>\n",
              "      <td>0.501783</td>\n",
              "      <td>-0.514246</td>\n",
              "      <td>0.784656</td>\n",
              "      <td>0.015835</td>\n",
              "    </tr>\n",
              "    <tr>\n",
              "      <th>Surface Pressure</th>\n",
              "      <td>-0.265497</td>\n",
              "      <td>-0.676242</td>\n",
              "      <td>1.000000</td>\n",
              "      <td>-0.891904</td>\n",
              "      <td>0.334998</td>\n",
              "      <td>-0.872245</td>\n",
              "      <td>-0.446472</td>\n",
              "    </tr>\n",
              "    <tr>\n",
              "      <th>Surface_Temperature</th>\n",
              "      <td>0.115499</td>\n",
              "      <td>0.501783</td>\n",
              "      <td>-0.891904</td>\n",
              "      <td>1.000000</td>\n",
              "      <td>-0.208347</td>\n",
              "      <td>0.844994</td>\n",
              "      <td>0.589007</td>\n",
              "    </tr>\n",
              "    <tr>\n",
              "      <th>Clearness_Index</th>\n",
              "      <td>-0.458199</td>\n",
              "      <td>-0.514246</td>\n",
              "      <td>0.334998</td>\n",
              "      <td>-0.208347</td>\n",
              "      <td>1.000000</td>\n",
              "      <td>-0.505756</td>\n",
              "      <td>0.603927</td>\n",
              "    </tr>\n",
              "    <tr>\n",
              "      <th>Radiative_Flux</th>\n",
              "      <td>0.325617</td>\n",
              "      <td>0.784656</td>\n",
              "      <td>-0.872245</td>\n",
              "      <td>0.844994</td>\n",
              "      <td>-0.505756</td>\n",
              "      <td>1.000000</td>\n",
              "      <td>0.272500</td>\n",
              "    </tr>\n",
              "    <tr>\n",
              "      <th>Radiation</th>\n",
              "      <td>-0.231088</td>\n",
              "      <td>0.015835</td>\n",
              "      <td>-0.446472</td>\n",
              "      <td>0.589007</td>\n",
              "      <td>0.603927</td>\n",
              "      <td>0.272500</td>\n",
              "      <td>1.000000</td>\n",
              "    </tr>\n",
              "  </tbody>\n",
              "</table>\n",
              "</div>"
            ],
            "text/plain": [
              "                     Precipitation  ...  Radiation\n",
              "Precipitation             1.000000  ...  -0.231088\n",
              "Specific_Humidity         0.452469  ...   0.015835\n",
              "Surface Pressure         -0.265497  ...  -0.446472\n",
              "Surface_Temperature       0.115499  ...   0.589007\n",
              "Clearness_Index          -0.458199  ...   0.603927\n",
              "Radiative_Flux            0.325617  ...   0.272500\n",
              "Radiation                -0.231088  ...   1.000000\n",
              "\n",
              "[7 rows x 7 columns]"
            ]
          },
          "metadata": {
            "tags": []
          },
          "execution_count": 61
        }
      ]
    },
    {
      "cell_type": "code",
      "metadata": {
        "colab_type": "code",
        "id": "qBV1-L9-q5Dc",
        "colab": {}
      },
      "source": [
        "input_feature= data.iloc[:, :].values\n",
        "input_data = input_feature"
      ],
      "execution_count": 0,
      "outputs": []
    },
    {
      "cell_type": "code",
      "metadata": {
        "colab_type": "code",
        "id": "MY9EkxocrKMX",
        "colab": {}
      },
      "source": [
        "from sklearn.preprocessing import MinMaxScaler\n",
        "sc= MinMaxScaler(feature_range=(0,1))\n",
        "input_data[:,:] = sc.fit_transform(input_feature[:,:])"
      ],
      "execution_count": 0,
      "outputs": []
    },
    {
      "cell_type": "code",
      "metadata": {
        "id": "QZkUAF4mf_zC",
        "colab_type": "code",
        "outputId": "bb0b94b3-bc44-4da2-d1a2-eb4430360c5f",
        "colab": {
          "base_uri": "https://localhost:8080/",
          "height": 51
        }
      },
      "source": [
        "input_data[0]"
      ],
      "execution_count": 64,
      "outputs": [
        {
          "output_type": "execute_result",
          "data": {
            "text/plain": [
              "array([0.        , 0.1348561 , 0.76595745, 0.13535197, 0.84615385,\n",
              "       0.12868217, 0.46593674])"
            ]
          },
          "metadata": {
            "tags": []
          },
          "execution_count": 64
        }
      ]
    },
    {
      "cell_type": "code",
      "metadata": {
        "colab_type": "code",
        "id": "wB69oZTVr78-",
        "colab": {}
      },
      "source": [
        "lookback= 50\n",
        "\n",
        "test_size=int(.3 * len(data))\n",
        "X=[]\n",
        "y=[]\n",
        "for i in range(len(data)-lookback-1):\n",
        "    t=[]\n",
        "    for j in range(0,lookback):\n",
        "        \n",
        "        t.append(input_data[[(i+j)], :])\n",
        "    X.append(t)\n",
        "    y.append(input_data[i+ lookback,6])"
      ],
      "execution_count": 0,
      "outputs": []
    },
    {
      "cell_type": "code",
      "metadata": {
        "colab_type": "code",
        "id": "es5k1KL-sCvo",
        "outputId": "d62159f9-270b-43c3-bbca-3237b15c4a9b",
        "colab": {
          "base_uri": "https://localhost:8080/",
          "height": 85
        }
      },
      "source": [
        "X, y= np.array(X), np.array(y)\n",
        "X_test = X[:test_size+lookback]\n",
        "Y_test = y[:test_size+lookback]\n",
        "X = X.reshape(X.shape[0],lookback, 7)\n",
        "X_test = X_test.reshape(X_test.shape[0],lookback, 7)\n",
        "print(X.shape)\n",
        "print(y.shape)\n",
        "print(X_test.shape)\n",
        "print(Y_test.shape)"
      ],
      "execution_count": 66,
      "outputs": [
        {
          "output_type": "stream",
          "text": [
            "(12235, 50, 7)\n",
            "(12235,)\n",
            "(3735, 50, 7)\n",
            "(3735,)\n"
          ],
          "name": "stdout"
        }
      ]
    },
    {
      "cell_type": "code",
      "metadata": {
        "colab_type": "code",
        "id": "3MM_YxmdyKHn",
        "outputId": "e49a7212-d58b-449e-cee4-5e8d1025082a",
        "colab": {
          "base_uri": "https://localhost:8080/",
          "height": 289
        }
      },
      "source": [
        "from tensorflow.python.keras import Sequential\n",
        "from tensorflow.python.keras.layers import Dense, GRU\n",
        "model = Sequential()\n",
        "model.add(GRU(units=30, return_sequences= True, input_shape=(X.shape[1],7)))\n",
        "model.add(GRU(units=30, return_sequences=True))\n",
        "model.add(GRU(units=30))\n",
        "model.add(Dense(units=1))\n",
        "model.summary()"
      ],
      "execution_count": 67,
      "outputs": [
        {
          "output_type": "stream",
          "text": [
            "Model: \"sequential_1\"\n",
            "_________________________________________________________________\n",
            "Layer (type)                 Output Shape              Param #   \n",
            "=================================================================\n",
            "gru_3 (GRU)                  (None, 50, 30)            3510      \n",
            "_________________________________________________________________\n",
            "gru_4 (GRU)                  (None, 50, 30)            5580      \n",
            "_________________________________________________________________\n",
            "gru_5 (GRU)                  (None, 30)                5580      \n",
            "_________________________________________________________________\n",
            "dense_1 (Dense)              (None, 1)                 31        \n",
            "=================================================================\n",
            "Total params: 14,701\n",
            "Trainable params: 14,701\n",
            "Non-trainable params: 0\n",
            "_________________________________________________________________\n"
          ],
          "name": "stdout"
        }
      ]
    },
    {
      "cell_type": "code",
      "metadata": {
        "colab_type": "code",
        "id": "igq5T62qyOxB",
        "colab": {}
      },
      "source": [
        "def r2_score(y_true, y_pred):\n",
        "    from keras import backend as K\n",
        "    SS_res =  K.sum(K.square( y_true-y_pred ))\n",
        "    SS_tot = K.sum(K.square( y_true - K.mean(y_true) ) )\n",
        "    return ( 1 - SS_res/(SS_tot + K.epsilon()) )\n",
        "\n",
        "model.compile(optimizer='adam', loss='mean_squared_error', metrics=['mae', 'mape', r2_score])"
      ],
      "execution_count": 0,
      "outputs": []
    },
    {
      "cell_type": "code",
      "metadata": {
        "colab_type": "code",
        "id": "FvtUS0QcyXqF",
        "outputId": "3d92a970-fbb1-41f5-f4ff-4f26a4fb9c8b",
        "colab": {
          "base_uri": "https://localhost:8080/",
          "height": 357
        }
      },
      "source": [
        "history = model.fit(X, y, epochs=10, batch_size=500)\n"
      ],
      "execution_count": 69,
      "outputs": [
        {
          "output_type": "stream",
          "text": [
            "Epoch 1/10\n",
            "25/25 [==============================] - 5s 184ms/step - loss: 0.0583 - mae: 0.1851 - mape: 50493.1211 - r2_score: -0.9416\n",
            "Epoch 2/10\n",
            "25/25 [==============================] - 4s 180ms/step - loss: 0.0192 - mae: 0.1044 - mape: 41505.9727 - r2_score: 0.3675\n",
            "Epoch 3/10\n",
            "25/25 [==============================] - 5s 183ms/step - loss: 0.0162 - mae: 0.0938 - mape: 34306.8438 - r2_score: 0.4635\n",
            "Epoch 4/10\n",
            "25/25 [==============================] - 5s 181ms/step - loss: 0.0156 - mae: 0.0907 - mape: 32454.7266 - r2_score: 0.4823\n",
            "Epoch 5/10\n",
            "25/25 [==============================] - 5s 183ms/step - loss: 0.0152 - mae: 0.0890 - mape: 30803.9746 - r2_score: 0.4998\n",
            "Epoch 6/10\n",
            "25/25 [==============================] - 5s 182ms/step - loss: 0.0148 - mae: 0.0875 - mape: 28677.3906 - r2_score: 0.5112\n",
            "Epoch 7/10\n",
            "25/25 [==============================] - 5s 181ms/step - loss: 0.0143 - mae: 0.0860 - mape: 28631.0156 - r2_score: 0.5257\n",
            "Epoch 8/10\n",
            "25/25 [==============================] - 5s 182ms/step - loss: 0.0140 - mae: 0.0848 - mape: 28626.8574 - r2_score: 0.5363\n",
            "Epoch 9/10\n",
            "25/25 [==============================] - 5s 182ms/step - loss: 0.0138 - mae: 0.0832 - mape: 26989.9395 - r2_score: 0.5453\n",
            "Epoch 10/10\n",
            "25/25 [==============================] - 5s 183ms/step - loss: 0.0135 - mae: 0.0820 - mape: 26248.7051 - r2_score: 0.5547\n"
          ],
          "name": "stdout"
        }
      ]
    },
    {
      "cell_type": "code",
      "metadata": {
        "id": "la0bPmBP4xgQ",
        "colab_type": "code",
        "colab": {}
      },
      "source": [
        "model.save(\"GRU_model2.h5\")\n",
        "\n"
      ],
      "execution_count": 0,
      "outputs": []
    },
    {
      "cell_type": "code",
      "metadata": {
        "id": "orv3X_YY_h4n",
        "colab_type": "code",
        "colab": {}
      },
      "source": [
        "import keras\n",
        "import tensorflow\n",
        "from tensorflow.keras.models import load_model\n",
        "dependencies = {\n",
        "    'r2_score': r2_score\n",
        "}\n",
        "loaded_model = tensorflow.keras.models.load_model(\"GRU_model2.h5\",custom_objects=dependencies,compile=False)\n",
        "\n"
      ],
      "execution_count": 0,
      "outputs": []
    },
    {
      "cell_type": "code",
      "metadata": {
        "id": "qM0RurKlEQBS",
        "colab_type": "code",
        "colab": {
          "base_uri": "https://localhost:8080/",
          "height": 51
        },
        "outputId": "0e305f83-3980-4cf2-f06b-695bebda07ec"
      },
      "source": [
        "loaded_model.compile(optimizer='adam', loss='mean_squared_error', metrics=['mae', 'mape', r2_score])\n",
        "result = loaded_model.evaluate(X_test, Y_test, batch_size=500)\n",
        "print(result)"
      ],
      "execution_count": 77,
      "outputs": [
        {
          "output_type": "stream",
          "text": [
            "8/8 [==============================] - 0s 58ms/step - loss: 0.0141 - mae: 0.0867 - mape: 84999.5078 - r2_score: 0.4654\n",
            "[0.014078501611948013, 0.08673097938299179, 84999.5078125, 0.465383380651474]\n"
          ],
          "name": "stdout"
        }
      ]
    },
    {
      "cell_type": "code",
      "metadata": {
        "colab_type": "code",
        "id": "E0h_TMbi0nyo",
        "colab": {}
      },
      "source": [
        "predicted_value= model.predict(X_test)"
      ],
      "execution_count": 0,
      "outputs": []
    },
    {
      "cell_type": "code",
      "metadata": {
        "id": "2U0oCh65f_zW",
        "colab_type": "code",
        "outputId": "eef2ff7f-759a-4e08-e057-c9d9f1883d00",
        "colab": {
          "base_uri": "https://localhost:8080/",
          "height": 331
        }
      },
      "source": [
        "history_dict = history.history\n",
        "print(history_dict.keys())\n",
        "fig, axs = plt.subplots(4)\n",
        "fig.suptitle('Vertically stacked subplots')\n",
        "axs[0].plot(history.history['loss'])\n",
        "axs[1].plot(history.history['mae'])\n",
        "axs[2].plot(history.history['mape'])\n",
        "axs[3].plot(history.history['r2_score'])\n",
        "# plt.plot(history.history['mean_absolute_error'])\n",
        "# plt.plot(history.history['mean_absolute_percentage_error'])\n",
        "# plt.plot(history.history['r2_score'])"
      ],
      "execution_count": 45,
      "outputs": [
        {
          "output_type": "stream",
          "text": [
            "dict_keys(['loss', 'mae', 'mape', 'r2_score'])\n"
          ],
          "name": "stdout"
        },
        {
          "output_type": "execute_result",
          "data": {
            "text/plain": [
              "[<matplotlib.lines.Line2D at 0x7fee36a7d208>]"
            ]
          },
          "metadata": {
            "tags": []
          },
          "execution_count": 45
        },
        {
          "output_type": "display_data",
          "data": {
            "image/png": "[encoded data removed]",
            "text/plain": [
              "<Figure size 432x288 with 4 Axes>"
            ]
          },
          "metadata": {
            "tags": [],
            "needs_background": "light"
          }
        }
      ]
    },
    {
      "cell_type": "code",
      "metadata": {
        "colab_type": "code",
        "id": "J25iSPXRyi7v",
        "outputId": "15b43f81-1f06-47c9-cafc-5dbf3198edff",
        "colab": {
          "base_uri": "https://localhost:8080/",
          "height": 301
        }
      },
      "source": [
        "plt.plot(predicted_value, color= 'red')\n",
        "plt.plot(input_data[lookback:test_size+(2*lookback),6], color='green')\n",
        "plt.title(\"Actual vs Predicted\")\n",
        "plt.xlabel(\"Time\")\n",
        "plt.ylabel(\"Radiation\")\n",
        "plt.show()"
      ],
      "execution_count": 46,
      "outputs": [
        {
          "output_type": "display_data",
          "data": {
            "image/png": "[encoded data removed]",
            "text/plain": [
              "<Figure size 432x288 with 1 Axes>"
            ]
          },
          "metadata": {
            "tags": [],
            "needs_background": "light"
          }
        }
      ]
    }
  ]
}