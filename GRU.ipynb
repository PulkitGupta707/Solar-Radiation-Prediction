{
 "cells": [
  {
   "cell_type": "code",
   "execution_count": 1,
   "metadata": {
    "colab": {},
    "colab_type": "code",
    "id": "tngEAFl0smSl"
   },
   "outputs": [],
   "source": [
    "import numpy as np\n",
    "import pandas as pd\n",
    "import matplotlib.pyplot as plt\n",
    "%matplotlib inline"
   ]
  },
  {
   "cell_type": "code",
   "execution_count": 2,
   "metadata": {
    "colab": {},
    "colab_type": "code",
    "id": "n5gOTzdcsmSw"
   },
   "outputs": [],
   "source": [
    "data = pd.read_csv('SolarDelhi.csv',parse_dates = ['Date'], index_col = ['Date'])"
   ]
  },
  {
   "cell_type": "code",
   "execution_count": 3,
   "metadata": {
    "colab": {
     "base_uri": "https://localhost:8080/",
     "height": 204
    },
    "colab_type": "code",
    "id": "kQya00XVsmS2",
    "outputId": "96fb9ab8-3624-4cbd-b412-6ec2bbe0b1af"
   },
   "outputs": [
    {
     "data": {
      "text/html": [
       "<div>\n",
       "<style scoped>\n",
       "    .dataframe tbody tr th:only-of-type {\n",
       "        vertical-align: middle;\n",
       "    }\n",
       "\n",
       "    .dataframe tbody tr th {\n",
       "        vertical-align: top;\n",
       "    }\n",
       "\n",
       "    .dataframe thead th {\n",
       "        text-align: right;\n",
       "    }\n",
       "</style>\n",
       "<table border=\"1\" class=\"dataframe\">\n",
       "  <thead>\n",
       "    <tr style=\"text-align: right;\">\n",
       "      <th></th>\n",
       "      <th>Precipitation</th>\n",
       "      <th>Specific_Humidity</th>\n",
       "      <th>Surface Pressure</th>\n",
       "      <th>Surface_Temperature</th>\n",
       "      <th>Clearness_Index</th>\n",
       "      <th>Radiative_Flux</th>\n",
       "      <th>Radiation</th>\n",
       "    </tr>\n",
       "    <tr>\n",
       "      <th>Date</th>\n",
       "      <th></th>\n",
       "      <th></th>\n",
       "      <th></th>\n",
       "      <th></th>\n",
       "      <th></th>\n",
       "      <th></th>\n",
       "      <th></th>\n",
       "    </tr>\n",
       "  </thead>\n",
       "  <tbody>\n",
       "    <tr>\n",
       "      <th>1986-01-01</th>\n",
       "      <td>0.0</td>\n",
       "      <td>0.003804</td>\n",
       "      <td>99.05</td>\n",
       "      <td>11.48</td>\n",
       "      <td>0.68</td>\n",
       "      <td>6.50</td>\n",
       "      <td>3.97</td>\n",
       "    </tr>\n",
       "    <tr>\n",
       "      <th>1986-02-01</th>\n",
       "      <td>0.0</td>\n",
       "      <td>0.003457</td>\n",
       "      <td>99.06</td>\n",
       "      <td>12.04</td>\n",
       "      <td>0.76</td>\n",
       "      <td>6.36</td>\n",
       "      <td>4.42</td>\n",
       "    </tr>\n",
       "    <tr>\n",
       "      <th>1986-03-01</th>\n",
       "      <td>0.0</td>\n",
       "      <td>0.002902</td>\n",
       "      <td>99.23</td>\n",
       "      <td>9.92</td>\n",
       "      <td>0.73</td>\n",
       "      <td>6.50</td>\n",
       "      <td>4.29</td>\n",
       "    </tr>\n",
       "    <tr>\n",
       "      <th>1986-04-01</th>\n",
       "      <td>0.0</td>\n",
       "      <td>0.002433</td>\n",
       "      <td>99.17</td>\n",
       "      <td>9.33</td>\n",
       "      <td>0.72</td>\n",
       "      <td>6.18</td>\n",
       "      <td>4.19</td>\n",
       "    </tr>\n",
       "    <tr>\n",
       "      <th>1986-05-01</th>\n",
       "      <td>0.0</td>\n",
       "      <td>0.002600</td>\n",
       "      <td>99.00</td>\n",
       "      <td>9.36</td>\n",
       "      <td>0.75</td>\n",
       "      <td>6.57</td>\n",
       "      <td>4.39</td>\n",
       "    </tr>\n",
       "  </tbody>\n",
       "</table>\n",
       "</div>"
      ],
      "text/plain": [
       "            Precipitation  Specific_Humidity  Surface Pressure  \\\n",
       "Date                                                             \n",
       "1986-01-01            0.0           0.003804             99.05   \n",
       "1986-02-01            0.0           0.003457             99.06   \n",
       "1986-03-01            0.0           0.002902             99.23   \n",
       "1986-04-01            0.0           0.002433             99.17   \n",
       "1986-05-01            0.0           0.002600             99.00   \n",
       "\n",
       "            Surface_Temperature  Clearness_Index  Radiative_Flux  Radiation  \n",
       "Date                                                                         \n",
       "1986-01-01                11.48             0.68            6.50       3.97  \n",
       "1986-02-01                12.04             0.76            6.36       4.42  \n",
       "1986-03-01                 9.92             0.73            6.50       4.29  \n",
       "1986-04-01                 9.33             0.72            6.18       4.19  \n",
       "1986-05-01                 9.36             0.75            6.57       4.39  "
      ]
     },
     "execution_count": 3,
     "metadata": {},
     "output_type": "execute_result"
    }
   ],
   "source": [
    "data.head()"
   ]
  },
  {
   "cell_type": "code",
   "execution_count": 4,
   "metadata": {
    "colab": {
     "base_uri": "https://localhost:8080/",
     "height": 980
    },
    "colab_type": "code",
    "id": "xprqvcOVsmTI",
    "outputId": "e167f8c2-5499-4704-865f-558bc6fd7ed0"
   },
   "outputs": [
    {
     "data": {
      "image/png": "[encoded data removed]",
      "text/plain": [
       "<Figure size 1080x1080 with 1 Axes>"
      ]
     },
     "metadata": {
      "needs_background": "light"
     },
     "output_type": "display_data"
    }
   ],
   "source": [
    "import numpy as np # linear algebra\n",
    "from scipy import stats # statistics\n",
    "import pandas as pd # data processing, CSV file I/O (e.g. pd.read_csv)\n",
    "import matplotlib.pyplot as plt # plotting tools\n",
    "import seaborn as sns # advanced plotting tools\n",
    "sns.set(style=\"white\")\n",
    "%matplotlib inline\n",
    "def corrPairs(df):\n",
    "    #Pairwise correlation matrix\n",
    "    corr = df.corr() # Compute the correlation matrix\n",
    "    mask = np.zeros_like(corr, dtype=np.bool) # make mask\n",
    "    mask[np.triu_indices_from(mask)] = True # mask upper triangle\n",
    "    sns.heatmap(corr, mask=mask, cmap='coolwarm', center=0, square=True, linewidths=.3, annot=True, cbar=False)\n",
    "\n",
    "#data['WeekOfYear'] = data.index.Date # add week to view correlation\n",
    "\n",
    "plt.figure(figsize=(15,15))\n",
    "corrPairs(data)"
   ]
  },
  {
   "cell_type": "code",
   "execution_count": 5,
   "metadata": {},
   "outputs": [
    {
     "data": {
      "text/html": [
       "<div>\n",
       "<style scoped>\n",
       "    .dataframe tbody tr th:only-of-type {\n",
       "        vertical-align: middle;\n",
       "    }\n",
       "\n",
       "    .dataframe tbody tr th {\n",
       "        vertical-align: top;\n",
       "    }\n",
       "\n",
       "    .dataframe thead th {\n",
       "        text-align: right;\n",
       "    }\n",
       "</style>\n",
       "<table border=\"1\" class=\"dataframe\">\n",
       "  <thead>\n",
       "    <tr style=\"text-align: right;\">\n",
       "      <th></th>\n",
       "      <th>Precipitation</th>\n",
       "      <th>Specific_Humidity</th>\n",
       "      <th>Surface Pressure</th>\n",
       "      <th>Surface_Temperature</th>\n",
       "      <th>Clearness_Index</th>\n",
       "      <th>Radiative_Flux</th>\n",
       "      <th>Radiation</th>\n",
       "    </tr>\n",
       "  </thead>\n",
       "  <tbody>\n",
       "    <tr>\n",
       "      <th>Precipitation</th>\n",
       "      <td>1.000000</td>\n",
       "      <td>0.452469</td>\n",
       "      <td>-0.265497</td>\n",
       "      <td>0.115499</td>\n",
       "      <td>-0.458199</td>\n",
       "      <td>0.325617</td>\n",
       "      <td>-0.231088</td>\n",
       "    </tr>\n",
       "    <tr>\n",
       "      <th>Specific_Humidity</th>\n",
       "      <td>0.452469</td>\n",
       "      <td>1.000000</td>\n",
       "      <td>-0.676242</td>\n",
       "      <td>0.501783</td>\n",
       "      <td>-0.514246</td>\n",
       "      <td>0.784656</td>\n",
       "      <td>0.015835</td>\n",
       "    </tr>\n",
       "    <tr>\n",
       "      <th>Surface Pressure</th>\n",
       "      <td>-0.265497</td>\n",
       "      <td>-0.676242</td>\n",
       "      <td>1.000000</td>\n",
       "      <td>-0.891904</td>\n",
       "      <td>0.334998</td>\n",
       "      <td>-0.872245</td>\n",
       "      <td>-0.446472</td>\n",
       "    </tr>\n",
       "    <tr>\n",
       "      <th>Surface_Temperature</th>\n",
       "      <td>0.115499</td>\n",
       "      <td>0.501783</td>\n",
       "      <td>-0.891904</td>\n",
       "      <td>1.000000</td>\n",
       "      <td>-0.208347</td>\n",
       "      <td>0.844994</td>\n",
       "      <td>0.589007</td>\n",
       "    </tr>\n",
       "    <tr>\n",
       "      <th>Clearness_Index</th>\n",
       "      <td>-0.458199</td>\n",
       "      <td>-0.514246</td>\n",
       "      <td>0.334998</td>\n",
       "      <td>-0.208347</td>\n",
       "      <td>1.000000</td>\n",
       "      <td>-0.505756</td>\n",
       "      <td>0.603927</td>\n",
       "    </tr>\n",
       "    <tr>\n",
       "      <th>Radiative_Flux</th>\n",
       "      <td>0.325617</td>\n",
       "      <td>0.784656</td>\n",
       "      <td>-0.872245</td>\n",
       "      <td>0.844994</td>\n",
       "      <td>-0.505756</td>\n",
       "      <td>1.000000</td>\n",
       "      <td>0.272500</td>\n",
       "    </tr>\n",
       "    <tr>\n",
       "      <th>Radiation</th>\n",
       "      <td>-0.231088</td>\n",
       "      <td>0.015835</td>\n",
       "      <td>-0.446472</td>\n",
       "      <td>0.589007</td>\n",
       "      <td>0.603927</td>\n",
       "      <td>0.272500</td>\n",
       "      <td>1.000000</td>\n",
       "    </tr>\n",
       "  </tbody>\n",
       "</table>\n",
       "</div>"
      ],
      "text/plain": [
       "                     Precipitation  Specific_Humidity  Surface Pressure  \\\n",
       "Precipitation             1.000000           0.452469         -0.265497   \n",
       "Specific_Humidity         0.452469           1.000000         -0.676242   \n",
       "Surface Pressure         -0.265497          -0.676242          1.000000   \n",
       "Surface_Temperature       0.115499           0.501783         -0.891904   \n",
       "Clearness_Index          -0.458199          -0.514246          0.334998   \n",
       "Radiative_Flux            0.325617           0.784656         -0.872245   \n",
       "Radiation                -0.231088           0.015835         -0.446472   \n",
       "\n",
       "                     Surface_Temperature  Clearness_Index  Radiative_Flux  \\\n",
       "Precipitation                   0.115499        -0.458199        0.325617   \n",
       "Specific_Humidity               0.501783        -0.514246        0.784656   \n",
       "Surface Pressure               -0.891904         0.334998       -0.872245   \n",
       "Surface_Temperature             1.000000        -0.208347        0.844994   \n",
       "Clearness_Index                -0.208347         1.000000       -0.505756   \n",
       "Radiative_Flux                  0.844994        -0.505756        1.000000   \n",
       "Radiation                       0.589007         0.603927        0.272500   \n",
       "\n",
       "                     Radiation  \n",
       "Precipitation        -0.231088  \n",
       "Specific_Humidity     0.015835  \n",
       "Surface Pressure     -0.446472  \n",
       "Surface_Temperature   0.589007  \n",
       "Clearness_Index       0.603927  \n",
       "Radiative_Flux        0.272500  \n",
       "Radiation             1.000000  "
      ]
     },
     "execution_count": 5,
     "metadata": {},
     "output_type": "execute_result"
    }
   ],
   "source": [
    "data.corr()"
   ]
  },
  {
   "cell_type": "code",
   "execution_count": 6,
   "metadata": {
    "colab": {},
    "colab_type": "code",
    "id": "qBV1-L9-q5Dc"
   },
   "outputs": [],
   "source": [
    "input_feature= data.iloc[:, :].values\n",
    "input_data = input_feature"
   ]
  },
  {
   "cell_type": "code",
   "execution_count": 7,
   "metadata": {
    "colab": {},
    "colab_type": "code",
    "id": "MY9EkxocrKMX"
   },
   "outputs": [],
   "source": [
    "from sklearn.preprocessing import MinMaxScaler\n",
    "sc= MinMaxScaler(feature_range=(0,1))\n",
    "input_data[:,:] = sc.fit_transform(input_feature[:,:])"
   ]
  },
  {
   "cell_type": "code",
   "execution_count": 8,
   "metadata": {},
   "outputs": [
    {
     "data": {
      "text/plain": [
       "array([0.        , 0.1348561 , 0.76595745, 0.13535197, 0.84615385,\n",
       "       0.12868217, 0.46593674])"
      ]
     },
     "execution_count": 8,
     "metadata": {},
     "output_type": "execute_result"
    }
   ],
   "source": [
    "input_data[0]"
   ]
  },
  {
   "cell_type": "code",
   "execution_count": 9,
   "metadata": {
    "colab": {},
    "colab_type": "code",
    "id": "wB69oZTVr78-"
   },
   "outputs": [],
   "source": [
    "lookback= 50\n",
    "\n",
    "test_size=int(.3 * len(data))\n",
    "X=[]\n",
    "y=[]\n",
    "for i in range(len(data)-lookback-1):\n",
    "    t=[]\n",
    "    for j in range(0,lookback):\n",
    "        \n",
    "        t.append(input_data[[(i+j)], :])\n",
    "    X.append(t)\n",
    "    y.append(input_data[i+ lookback,6])"
   ]
  },
  {
   "cell_type": "code",
   "execution_count": 10,
   "metadata": {
    "colab": {
     "base_uri": "https://localhost:8080/",
     "height": 51
    },
    "colab_type": "code",
    "id": "es5k1KL-sCvo",
    "outputId": "63c57ae8-4b23-4114-e803-09d8cd07b672"
   },
   "outputs": [
    {
     "name": "stdout",
     "output_type": "stream",
     "text": [
      "(12235, 50, 7)\n",
      "(3735, 50, 7)\n"
     ]
    }
   ],
   "source": [
    "X, y= np.array(X), np.array(y)\n",
    "X_test = X[:test_size+lookback]\n",
    "X = X.reshape(X.shape[0],lookback, 7)\n",
    "X_test = X_test.reshape(X_test.shape[0],lookback, 7)\n",
    "print(X.shape)\n",
    "print(X_test.shape)"
   ]
  },
  {
   "cell_type": "code",
   "execution_count": 11,
   "metadata": {
    "colab": {
     "base_uri": "https://localhost:8080/",
     "height": 289
    },
    "colab_type": "code",
    "id": "3MM_YxmdyKHn",
    "outputId": "4bb0a1a6-8688-4bf0-81c6-4a15411e47cc"
   },
   "outputs": [
    {
     "name": "stderr",
     "output_type": "stream",
     "text": [
      "Using TensorFlow backend.\n",
      "c:\\python37\\lib\\site-packages\\tensorflow\\python\\framework\\dtypes.py:516: FutureWarning: Passing (type, 1) or '1type' as a synonym of type is deprecated; in a future version of numpy, it will be understood as (type, (1,)) / '(1,)type'.\n",
      "  _np_qint8 = np.dtype([(\"qint8\", np.int8, 1)])\n",
      "c:\\python37\\lib\\site-packages\\tensorflow\\python\\framework\\dtypes.py:517: FutureWarning: Passing (type, 1) or '1type' as a synonym of type is deprecated; in a future version of numpy, it will be understood as (type, (1,)) / '(1,)type'.\n",
      "  _np_quint8 = np.dtype([(\"quint8\", np.uint8, 1)])\n",
      "c:\\python37\\lib\\site-packages\\tensorflow\\python\\framework\\dtypes.py:518: FutureWarning: Passing (type, 1) or '1type' as a synonym of type is deprecated; in a future version of numpy, it will be understood as (type, (1,)) / '(1,)type'.\n",
      "  _np_qint16 = np.dtype([(\"qint16\", np.int16, 1)])\n",
      "c:\\python37\\lib\\site-packages\\tensorflow\\python\\framework\\dtypes.py:519: FutureWarning: Passing (type, 1) or '1type' as a synonym of type is deprecated; in a future version of numpy, it will be understood as (type, (1,)) / '(1,)type'.\n",
      "  _np_quint16 = np.dtype([(\"quint16\", np.uint16, 1)])\n",
      "c:\\python37\\lib\\site-packages\\tensorflow\\python\\framework\\dtypes.py:520: FutureWarning: Passing (type, 1) or '1type' as a synonym of type is deprecated; in a future version of numpy, it will be understood as (type, (1,)) / '(1,)type'.\n",
      "  _np_qint32 = np.dtype([(\"qint32\", np.int32, 1)])\n",
      "c:\\python37\\lib\\site-packages\\tensorflow\\python\\framework\\dtypes.py:525: FutureWarning: Passing (type, 1) or '1type' as a synonym of type is deprecated; in a future version of numpy, it will be understood as (type, (1,)) / '(1,)type'.\n",
      "  np_resource = np.dtype([(\"resource\", np.ubyte, 1)])\n",
      "c:\\python37\\lib\\site-packages\\tensorboard\\compat\\tensorflow_stub\\dtypes.py:541: FutureWarning: Passing (type, 1) or '1type' as a synonym of type is deprecated; in a future version of numpy, it will be understood as (type, (1,)) / '(1,)type'.\n",
      "  _np_qint8 = np.dtype([(\"qint8\", np.int8, 1)])\n",
      "c:\\python37\\lib\\site-packages\\tensorboard\\compat\\tensorflow_stub\\dtypes.py:542: FutureWarning: Passing (type, 1) or '1type' as a synonym of type is deprecated; in a future version of numpy, it will be understood as (type, (1,)) / '(1,)type'.\n",
      "  _np_quint8 = np.dtype([(\"quint8\", np.uint8, 1)])\n",
      "c:\\python37\\lib\\site-packages\\tensorboard\\compat\\tensorflow_stub\\dtypes.py:543: FutureWarning: Passing (type, 1) or '1type' as a synonym of type is deprecated; in a future version of numpy, it will be understood as (type, (1,)) / '(1,)type'.\n",
      "  _np_qint16 = np.dtype([(\"qint16\", np.int16, 1)])\n",
      "c:\\python37\\lib\\site-packages\\tensorboard\\compat\\tensorflow_stub\\dtypes.py:544: FutureWarning: Passing (type, 1) or '1type' as a synonym of type is deprecated; in a future version of numpy, it will be understood as (type, (1,)) / '(1,)type'.\n",
      "  _np_quint16 = np.dtype([(\"quint16\", np.uint16, 1)])\n",
      "c:\\python37\\lib\\site-packages\\tensorboard\\compat\\tensorflow_stub\\dtypes.py:545: FutureWarning: Passing (type, 1) or '1type' as a synonym of type is deprecated; in a future version of numpy, it will be understood as (type, (1,)) / '(1,)type'.\n",
      "  _np_qint32 = np.dtype([(\"qint32\", np.int32, 1)])\n",
      "c:\\python37\\lib\\site-packages\\tensorboard\\compat\\tensorflow_stub\\dtypes.py:550: FutureWarning: Passing (type, 1) or '1type' as a synonym of type is deprecated; in a future version of numpy, it will be understood as (type, (1,)) / '(1,)type'.\n",
      "  np_resource = np.dtype([(\"resource\", np.ubyte, 1)])\n"
     ]
    },
    {
     "name": "stdout",
     "output_type": "stream",
     "text": [
      "WARNING:tensorflow:From c:\\python37\\lib\\site-packages\\keras\\backend\\tensorflow_backend.py:66: The name tf.get_default_graph is deprecated. Please use tf.compat.v1.get_default_graph instead.\n",
      "\n",
      "WARNING:tensorflow:From c:\\python37\\lib\\site-packages\\keras\\backend\\tensorflow_backend.py:541: The name tf.placeholder is deprecated. Please use tf.compat.v1.placeholder instead.\n",
      "\n",
      "WARNING:tensorflow:From c:\\python37\\lib\\site-packages\\keras\\backend\\tensorflow_backend.py:4432: The name tf.random_uniform is deprecated. Please use tf.random.uniform instead.\n",
      "\n",
      "Model: \"sequential_1\"\n",
      "_________________________________________________________________\n",
      "Layer (type)                 Output Shape              Param #   \n",
      "=================================================================\n",
      "gru_1 (GRU)                  (None, 50, 30)            3420      \n",
      "_________________________________________________________________\n",
      "gru_2 (GRU)                  (None, 50, 30)            5490      \n",
      "_________________________________________________________________\n",
      "gru_3 (GRU)                  (None, 30)                5490      \n",
      "_________________________________________________________________\n",
      "dense_1 (Dense)              (None, 1)                 31        \n",
      "=================================================================\n",
      "Total params: 14,431\n",
      "Trainable params: 14,431\n",
      "Non-trainable params: 0\n",
      "_________________________________________________________________\n"
     ]
    }
   ],
   "source": [
    "from keras import Sequential\n",
    "from keras.layers import Dense, GRU\n",
    "model = Sequential()\n",
    "model.add(GRU(units=30, return_sequences= True, input_shape=(X.shape[1],7)))\n",
    "model.add(GRU(units=30, return_sequences=True))\n",
    "model.add(GRU(units=30))\n",
    "model.add(Dense(units=1))\n",
    "model.summary()"
   ]
  },
  {
   "cell_type": "code",
   "execution_count": 12,
   "metadata": {
    "colab": {},
    "colab_type": "code",
    "id": "igq5T62qyOxB"
   },
   "outputs": [
    {
     "name": "stdout",
     "output_type": "stream",
     "text": [
      "WARNING:tensorflow:From c:\\python37\\lib\\site-packages\\keras\\optimizers.py:793: The name tf.train.Optimizer is deprecated. Please use tf.compat.v1.train.Optimizer instead.\n",
      "\n"
     ]
    }
   ],
   "source": [
    "def r2_score(y_true, y_pred):\n",
    "    from keras import backend as K\n",
    "    SS_res =  K.sum(K.square( y_true-y_pred ))\n",
    "    SS_tot = K.sum(K.square( y_true - K.mean(y_true) ) )\n",
    "    return ( 1 - SS_res/(SS_tot + K.epsilon()) )\n",
    "\n",
    "model.compile(optimizer='adam', loss='mean_squared_error', metrics=['mae', 'mape', r2_score])"
   ]
  },
  {
   "cell_type": "code",
   "execution_count": 13,
   "metadata": {
    "colab": {
     "base_uri": "https://localhost:8080/",
     "height": 714
    },
    "colab_type": "code",
    "id": "FvtUS0QcyXqF",
    "outputId": "4e570fc5-4f85-448c-db8b-edf1784607e6"
   },
   "outputs": [
    {
     "name": "stdout",
     "output_type": "stream",
     "text": [
      "WARNING:tensorflow:From c:\\python37\\lib\\site-packages\\tensorflow\\python\\ops\\math_grad.py:1250: add_dispatch_support.<locals>.wrapper (from tensorflow.python.ops.array_ops) is deprecated and will be removed in a future version.\n",
      "Instructions for updating:\n",
      "Use tf.where in 2.0, which has the same broadcast rule as np.where\n",
      "WARNING:tensorflow:From c:\\python37\\lib\\site-packages\\keras\\backend\\tensorflow_backend.py:1033: The name tf.assign_add is deprecated. Please use tf.compat.v1.assign_add instead.\n",
      "\n",
      "WARNING:tensorflow:From c:\\python37\\lib\\site-packages\\keras\\backend\\tensorflow_backend.py:1020: The name tf.assign is deprecated. Please use tf.compat.v1.assign instead.\n",
      "\n",
      "Epoch 1/50\n",
      "12235/12235 [==============================] - 10s 793us/step - loss: 0.0272 - mean_absolute_error: 0.1205 - mean_absolute_percentage_error: 36021.8760 - r2_score: 0.1070\n",
      "Epoch 2/50\n",
      "12235/12235 [==============================] - 5s 429us/step - loss: 0.0155 - mean_absolute_error: 0.0904 - mean_absolute_percentage_error: 33727.3771 - r2_score: 0.4872\n",
      "Epoch 3/50\n",
      "12235/12235 [==============================] - 5s 413us/step - loss: 0.0143 - mean_absolute_error: 0.0855 - mean_absolute_percentage_error: 27933.0961 - r2_score: 0.5282\n",
      "Epoch 4/50\n",
      "12235/12235 [==============================] - 5s 425us/step - loss: 0.0132 - mean_absolute_error: 0.0812 - mean_absolute_percentage_error: 27184.6562 - r2_score: 0.5621 1s - loss: 0.0133 - mean_absolute_error: 0.0815 - mean_absolute_percentage_error: 42624.\n",
      "Epoch 5/50\n",
      "12235/12235 [==============================] - 5s 425us/step - loss: 0.0130 - mean_absolute_error: 0.0796 - mean_absolute_percentage_error: 27217.9416 - r2_score: 0.5696\n",
      "Epoch 6/50\n",
      "12235/12235 [==============================] - 5s 431us/step - loss: 0.0126 - mean_absolute_error: 0.0781 - mean_absolute_percentage_error: 26916.8922 - r2_score: 0.5817\n",
      "Epoch 7/50\n",
      "12235/12235 [==============================] - 5s 426us/step - loss: 0.0127 - mean_absolute_error: 0.0784 - mean_absolute_percentage_error: 29141.7429 - r2_score: 0.5786\n",
      "Epoch 8/50\n",
      "12235/12235 [==============================] - 6s 452us/step - loss: 0.0126 - mean_absolute_error: 0.0782 - mean_absolute_percentage_error: 28438.0084 - r2_score: 0.5836\n",
      "Epoch 9/50\n",
      "12235/12235 [==============================] - 6s 459us/step - loss: 0.0127 - mean_absolute_error: 0.0785 - mean_absolute_percentage_error: 29457.0536 - r2_score: 0.5782\n",
      "Epoch 10/50\n",
      "12235/12235 [==============================] - 6s 453us/step - loss: 0.0123 - mean_absolute_error: 0.0769 - mean_absolute_percentage_error: 28954.2516 - r2_score: 0.5917\n",
      "Epoch 11/50\n",
      "12235/12235 [==============================] - 6s 473us/step - loss: 0.0123 - mean_absolute_error: 0.0769 - mean_absolute_percentage_error: 29988.0127 - r2_score: 0.5895\n",
      "Epoch 12/50\n",
      "12235/12235 [==============================] - 6s 488us/step - loss: 0.0124 - mean_absolute_error: 0.0773 - mean_absolute_percentage_error: 29550.8526 - r2_score: 0.5882\n",
      "Epoch 13/50\n",
      "12235/12235 [==============================] - 6s 499us/step - loss: 0.0123 - mean_absolute_error: 0.0762 - mean_absolute_percentage_error: 29192.6117 - r2_score: 0.5938\n",
      "Epoch 14/50\n",
      "12235/12235 [==============================] - 6s 496us/step - loss: 0.0123 - mean_absolute_error: 0.0766 - mean_absolute_percentage_error: 30640.1275 - r2_score: 0.5939\n",
      "Epoch 15/50\n",
      "12235/12235 [==============================] - 7s 581us/step - loss: 0.0122 - mean_absolute_error: 0.0768 - mean_absolute_percentage_error: 30357.9828 - r2_score: 0.5936\n",
      "Epoch 16/50\n",
      "12235/12235 [==============================] - 8s 656us/step - loss: 0.0123 - mean_absolute_error: 0.0771 - mean_absolute_percentage_error: 30414.9282 - r2_score: 0.5919\n",
      "Epoch 17/50\n",
      "12235/12235 [==============================] - 6s 502us/step - loss: 0.0121 - mean_absolute_error: 0.0760 - mean_absolute_percentage_error: 28121.7721 - r2_score: 0.5975\n",
      "Epoch 18/50\n",
      "12235/12235 [==============================] - 7s 543us/step - loss: 0.0121 - mean_absolute_error: 0.0761 - mean_absolute_percentage_error: 28623.5647 - r2_score: 0.5970\n",
      "Epoch 19/50\n",
      "12235/12235 [==============================] - 6s 507us/step - loss: 0.0121 - mean_absolute_error: 0.0760 - mean_absolute_percentage_error: 27725.2345 - r2_score: 0.5992\n",
      "Epoch 20/50\n",
      "12235/12235 [==============================] - 6s 478us/step - loss: 0.0122 - mean_absolute_error: 0.0764 - mean_absolute_percentage_error: 29046.8800 - r2_score: 0.5964\n",
      "Epoch 21/50\n",
      "12235/12235 [==============================] - 6s 465us/step - loss: 0.0122 - mean_absolute_error: 0.0766 - mean_absolute_percentage_error: 29096.8564 - r2_score: 0.5952\n",
      "Epoch 22/50\n",
      "12235/12235 [==============================] - 6s 467us/step - loss: 0.0121 - mean_absolute_error: 0.0757 - mean_absolute_percentage_error: 29790.7277 - r2_score: 0.5997\n",
      "Epoch 23/50\n",
      "12235/12235 [==============================] - 6s 457us/step - loss: 0.0120 - mean_absolute_error: 0.0757 - mean_absolute_percentage_error: 30023.6804 - r2_score: 0.6012\n",
      "Epoch 24/50\n",
      "12235/12235 [==============================] - 5s 413us/step - loss: 0.0121 - mean_absolute_error: 0.0764 - mean_absolute_percentage_error: 28362.9335 - r2_score: 0.5987\n",
      "Epoch 25/50\n",
      "12235/12235 [==============================] - 6s 464us/step - loss: 0.0123 - mean_absolute_error: 0.0770 - mean_absolute_percentage_error: 31817.1281 - r2_score: 0.5922\n",
      "Epoch 26/50\n",
      "12235/12235 [==============================] - 6s 460us/step - loss: 0.0121 - mean_absolute_error: 0.0760 - mean_absolute_percentage_error: 29548.8571 - r2_score: 0.5986\n",
      "Epoch 27/50\n",
      "12235/12235 [==============================] - 5s 437us/step - loss: 0.0121 - mean_absolute_error: 0.0759 - mean_absolute_percentage_error: 29116.6640 - r2_score: 0.6010- loss: 0.0120 - mean_absolute_error: 0.0761 - mean - ETA: 0s - loss: 0.0119 - mean_absolute_error: 0.0754 - mean_absolute_percentage_error: 34249.5013 - r2_sco\n",
      "Epoch 28/50\n",
      "12235/12235 [==============================] - 5s 401us/step - loss: 0.0121 - mean_absolute_error: 0.0761 - mean_absolute_percentage_error: 28395.1555 - r2_score: 0.5989\n",
      "Epoch 29/50\n",
      "12235/12235 [==============================] - 5s 411us/step - loss: 0.0120 - mean_absolute_error: 0.0759 - mean_absolute_percentage_error: 29388.7669 - r2_score: 0.6009\n",
      "Epoch 30/50\n",
      "12235/12235 [==============================] - 5s 438us/step - loss: 0.0121 - mean_absolute_error: 0.0759 - mean_absolute_percentage_error: 29267.2743 - r2_score: 0.6008\n",
      "Epoch 31/50\n",
      "12235/12235 [==============================] - 5s 440us/step - loss: 0.0122 - mean_absolute_error: 0.0768 - mean_absolute_percentage_error: 31008.4420 - r2_score: 0.5964\n",
      "Epoch 32/50\n",
      "12235/12235 [==============================] - 5s 443us/step - loss: 0.0122 - mean_absolute_error: 0.0765 - mean_absolute_percentage_error: 28952.2612 - r2_score: 0.5960\n",
      "Epoch 33/50\n",
      "12235/12235 [==============================] - 5s 405us/step - loss: 0.0120 - mean_absolute_error: 0.0753 - mean_absolute_percentage_error: 28639.4652 - r2_score: 0.6036\n",
      "Epoch 34/50\n",
      "12235/12235 [==============================] - 5s 441us/step - loss: 0.0119 - mean_absolute_error: 0.0756 - mean_absolute_percentage_error: 28859.6649 - r2_score: 0.6049\n",
      "Epoch 35/50\n",
      "12235/12235 [==============================] - 5s 425us/step - loss: 0.0121 - mean_absolute_error: 0.0764 - mean_absolute_percentage_error: 31062.3166 - r2_score: 0.5969\n",
      "Epoch 36/50\n",
      "12235/12235 [==============================] - 6s 460us/step - loss: 0.0120 - mean_absolute_error: 0.0757 - mean_absolute_percentage_error: 28158.9125 - r2_score: 0.6023\n",
      "Epoch 37/50\n",
      "12235/12235 [==============================] - 6s 456us/step - loss: 0.0120 - mean_absolute_error: 0.0753 - mean_absolute_percentage_error: 30641.1716 - r2_score: 0.6026\n",
      "Epoch 38/50\n",
      "12235/12235 [==============================] - 5s 425us/step - loss: 0.0120 - mean_absolute_error: 0.0756 - mean_absolute_percentage_error: 27318.9359 - r2_score: 0.6028\n",
      "Epoch 39/50\n",
      "12235/12235 [==============================] - 5s 439us/step - loss: 0.0121 - mean_absolute_error: 0.0760 - mean_absolute_percentage_error: 28623.1488 - r2_score: 0.6002\n",
      "Epoch 40/50\n",
      "12235/12235 [==============================] - 5s 421us/step - loss: 0.0119 - mean_absolute_error: 0.0751 - mean_absolute_percentage_error: 29476.4013 - r2_score: 0.6048\n",
      "Epoch 41/50\n"
     ]
    },
    {
     "name": "stdout",
     "output_type": "stream",
     "text": [
      "12235/12235 [==============================] - 5s 430us/step - loss: 0.0119 - mean_absolute_error: 0.0750 - mean_absolute_percentage_error: 29878.8068 - r2_score: 0.6071\n",
      "Epoch 42/50\n",
      "12235/12235 [==============================] - 5s 444us/step - loss: 0.0119 - mean_absolute_error: 0.0752 - mean_absolute_percentage_error: 28858.7740 - r2_score: 0.6053\n",
      "Epoch 43/50\n",
      "12235/12235 [==============================] - 5s 444us/step - loss: 0.0123 - mean_absolute_error: 0.0778 - mean_absolute_percentage_error: 30073.4655 - r2_score: 0.5920\n",
      "Epoch 44/50\n",
      "12235/12235 [==============================] - 5s 433us/step - loss: 0.0119 - mean_absolute_error: 0.0752 - mean_absolute_percentage_error: 28556.8768 - r2_score: 0.6050\n",
      "Epoch 45/50\n",
      "12235/12235 [==============================] - 5s 430us/step - loss: 0.0120 - mean_absolute_error: 0.0756 - mean_absolute_percentage_error: 30948.0598 - r2_score: 0.6036 3s - loss: 0.0117 - mean_absolute_error: 0.0756 - mean_absolute_percenta\n",
      "Epoch 46/50\n",
      "12235/12235 [==============================] - 5s 424us/step - loss: 0.0120 - mean_absolute_error: 0.0761 - mean_absolute_percentage_error: 28272.6249 - r2_score: 0.5998\n",
      "Epoch 47/50\n",
      "12235/12235 [==============================] - 5s 427us/step - loss: 0.0120 - mean_absolute_error: 0.0761 - mean_absolute_percentage_error: 27371.0632 - r2_score: 0.5996 4s - loss: 0.0126 - mean_absolute_error: 0.0785 - mean_absolu\n",
      "Epoch 48/50\n",
      "12235/12235 [==============================] - 5s 434us/step - loss: 0.0120 - mean_absolute_error: 0.0756 - mean_absolute_percentage_error: 29159.0865 - r2_score: 0.6018\n",
      "Epoch 49/50\n",
      "12235/12235 [==============================] - 5s 432us/step - loss: 0.0119 - mean_absolute_error: 0.0755 - mean_absolute_percentage_error: 26723.4848 - r2_score: 0.6047\n",
      "Epoch 50/50\n",
      "12235/12235 [==============================] - 5s 428us/step - loss: 0.0118 - mean_absolute_error: 0.0747 - mean_absolute_percentage_error: 30125.2887 - r2_score: 0.6082\n"
     ]
    }
   ],
   "source": [
    "history = model.fit(X, y, epochs=50, batch_size=200)"
   ]
  },
  {
   "cell_type": "code",
   "execution_count": 14,
   "metadata": {
    "colab": {},
    "colab_type": "code",
    "id": "E0h_TMbi0nyo"
   },
   "outputs": [],
   "source": [
    "predicted_value= model.predict(X_test)"
   ]
  },
  {
   "cell_type": "code",
   "execution_count": 15,
   "metadata": {},
   "outputs": [
    {
     "name": "stdout",
     "output_type": "stream",
     "text": [
      "dict_keys(['loss', 'mean_absolute_error', 'mean_absolute_percentage_error', 'r2_score'])\n"
     ]
    },
    {
     "data": {
      "text/plain": [
       "[<matplotlib.lines.Line2D at 0x184f37647b8>]"
      ]
     },
     "execution_count": 15,
     "metadata": {},
     "output_type": "execute_result"
    },
    {
     "data": {
      "image/png": "[encoded data removed]",
      "text/plain": [
       "<Figure size 432x288 with 3 Axes>"
      ]
     },
     "metadata": {
      "needs_background": "light"
     },
     "output_type": "display_data"
    }
   ],
   "source": [
    "history_dict = history.history\n",
    "print(history_dict.keys())\n",
    "fig, axs = plt.subplots(4)\n",
    "fig.suptitle('Vertically stacked subplots')\n",
    "axs[0].plot(history.history['loss'])\n",
    "axs[1].plot(history.history['mae'])\n",
    "axs[2].plot(history.history['mape'])\n",
    "axs[3].plot(history.history['r2_score'])\n",
    "# plt.plot(history.history['mean_absolute_error'])\n",
    "# plt.plot(history.history['mean_absolute_percentage_error'])\n",
    "# plt.plot(history.history['r2_score'])"
   ]
  },
  {
   "cell_type": "code",
   "execution_count": 16,
   "metadata": {
    "colab": {
     "base_uri": "https://localhost:8080/",
     "height": 301
    },
    "colab_type": "code",
    "id": "J25iSPXRyi7v",
    "outputId": "9bb1b21d-cb25-4d1e-b9e4-eeb8356a2af0"
   },
   "outputs": [
    {
     "data": {
      "image/png": "[encoded data removed]",
      "text/plain": [
       "<Figure size 432x288 with 1 Axes>"
      ]
     },
     "metadata": {
      "needs_background": "light"
     },
     "output_type": "display_data"
    }
   ],
   "source": [
    "plt.plot(predicted_value, color= 'red')\n",
    "plt.plot(input_data[lookback:test_size+(2*lookback),6], color='green')\n",
    "plt.title(\"Actual vs Predicted\")\n",
    "plt.xlabel(\"Time\")\n",
    "plt.ylabel(\"Radiation\")\n",
    "plt.show()"
   ]
  }
 ],
 "metadata": {
  "colab": {
   "name": "LSTM.ipynb",
   "provenance": []
  },
  "kernelspec": {
   "display_name": "Python 3",
   "language": "python",
   "name": "python3"
  },
  "language_info": {
   "codemirror_mode": {
    "name": "ipython",
    "version": 3
   },
   "file_extension": ".py",
   "mimetype": "text/x-python",
   "name": "python",
   "nbconvert_exporter": "python",
   "pygments_lexer": "ipython3",
   "version": "3.7.2"
  }
 },
 "nbformat": 4,
 "nbformat_minor": 1
}
