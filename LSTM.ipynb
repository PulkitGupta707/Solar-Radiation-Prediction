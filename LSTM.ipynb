{
  "nbformat": 4,
  "nbformat_minor": 0,
  "metadata": {
    "colab": {
      "name": "LSTM.ipynb",
      "provenance": []
    },
    "kernelspec": {
      "display_name": "Python 3",
      "language": "python",
      "name": "python3"
    },
    "language_info": {
      "codemirror_mode": {
        "name": "ipython",
        "version": 3
      },
      "file_extension": ".py",
      "mimetype": "text/x-python",
      "name": "python",
      "nbconvert_exporter": "python",
      "pygments_lexer": "ipython3",
      "version": "3.7.2"
    }
  },
  "cells": [
    {
      "cell_type": "code",
      "metadata": {
        "colab_type": "code",
        "id": "tngEAFl0smSl",
        "colab": {}
      },
      "source": [
        "import numpy as np\n",
        "import pandas as pd\n",
        "import matplotlib.pyplot as plt\n",
        "%matplotlib inline"
      ],
      "execution_count": 0,
      "outputs": []
    },
    {
      "cell_type": "code",
      "metadata": {
        "colab_type": "code",
        "id": "n5gOTzdcsmSw",
        "colab": {}
      },
      "source": [
        "data = pd.read_csv('https://raw.githubusercontent.com/ZafarAqil/Solar-Radiation-Prediction/Major/SolarDelhi.csv',parse_dates = ['Date'], index_col = ['Date'])"
      ],
      "execution_count": 0,
      "outputs": []
    },
    {
      "cell_type": "code",
      "metadata": {
        "colab_type": "code",
        "id": "kQya00XVsmS2",
        "outputId": "01b07e69-f03e-4ccb-8345-fec6d5a4b7ca",
        "colab": {
          "base_uri": "https://localhost:8080/",
          "height": 235
        }
      },
      "source": [
        "data.head()"
      ],
      "execution_count": 3,
      "outputs": [
        {
          "output_type": "execute_result",
          "data": {
            "text/html": [
              "<div>\n",
              "<style scoped>\n",
              "    .dataframe tbody tr th:only-of-type {\n",
              "        vertical-align: middle;\n",
              "    }\n",
              "\n",
              "    .dataframe tbody tr th {\n",
              "        vertical-align: top;\n",
              "    }\n",
              "\n",
              "    .dataframe thead th {\n",
              "        text-align: right;\n",
              "    }\n",
              "</style>\n",
              "<table border=\"1\" class=\"dataframe\">\n",
              "  <thead>\n",
              "    <tr style=\"text-align: right;\">\n",
              "      <th></th>\n",
              "      <th>Precipitation</th>\n",
              "      <th>Specific_Humidity</th>\n",
              "      <th>Surface Pressure</th>\n",
              "      <th>Surface_Temperature</th>\n",
              "      <th>Clearness_Index</th>\n",
              "      <th>Radiative_Flux</th>\n",
              "      <th>Radiation</th>\n",
              "    </tr>\n",
              "    <tr>\n",
              "      <th>Date</th>\n",
              "      <th></th>\n",
              "      <th></th>\n",
              "      <th></th>\n",
              "      <th></th>\n",
              "      <th></th>\n",
              "      <th></th>\n",
              "      <th></th>\n",
              "    </tr>\n",
              "  </thead>\n",
              "  <tbody>\n",
              "    <tr>\n",
              "      <th>1986-01-01</th>\n",
              "      <td>0.0</td>\n",
              "      <td>0.003804</td>\n",
              "      <td>99.05</td>\n",
              "      <td>11.48</td>\n",
              "      <td>0.68</td>\n",
              "      <td>6.50</td>\n",
              "      <td>3.97</td>\n",
              "    </tr>\n",
              "    <tr>\n",
              "      <th>1986-02-01</th>\n",
              "      <td>0.0</td>\n",
              "      <td>0.003457</td>\n",
              "      <td>99.06</td>\n",
              "      <td>12.04</td>\n",
              "      <td>0.76</td>\n",
              "      <td>6.36</td>\n",
              "      <td>4.42</td>\n",
              "    </tr>\n",
              "    <tr>\n",
              "      <th>1986-03-01</th>\n",
              "      <td>0.0</td>\n",
              "      <td>0.002902</td>\n",
              "      <td>99.23</td>\n",
              "      <td>9.92</td>\n",
              "      <td>0.73</td>\n",
              "      <td>6.50</td>\n",
              "      <td>4.29</td>\n",
              "    </tr>\n",
              "    <tr>\n",
              "      <th>1986-04-01</th>\n",
              "      <td>0.0</td>\n",
              "      <td>0.002433</td>\n",
              "      <td>99.17</td>\n",
              "      <td>9.33</td>\n",
              "      <td>0.72</td>\n",
              "      <td>6.18</td>\n",
              "      <td>4.19</td>\n",
              "    </tr>\n",
              "    <tr>\n",
              "      <th>1986-05-01</th>\n",
              "      <td>0.0</td>\n",
              "      <td>0.002600</td>\n",
              "      <td>99.00</td>\n",
              "      <td>9.36</td>\n",
              "      <td>0.75</td>\n",
              "      <td>6.57</td>\n",
              "      <td>4.39</td>\n",
              "    </tr>\n",
              "  </tbody>\n",
              "</table>\n",
              "</div>"
            ],
            "text/plain": [
              "            Precipitation  Specific_Humidity  ...  Radiative_Flux  Radiation\n",
              "Date                                          ...                           \n",
              "1986-01-01            0.0           0.003804  ...            6.50       3.97\n",
              "1986-02-01            0.0           0.003457  ...            6.36       4.42\n",
              "1986-03-01            0.0           0.002902  ...            6.50       4.29\n",
              "1986-04-01            0.0           0.002433  ...            6.18       4.19\n",
              "1986-05-01            0.0           0.002600  ...            6.57       4.39\n",
              "\n",
              "[5 rows x 7 columns]"
            ]
          },
          "metadata": {
            "tags": []
          },
          "execution_count": 3
        }
      ]
    },
    {
      "cell_type": "code",
      "metadata": {
        "colab_type": "code",
        "id": "xprqvcOVsmTI",
        "outputId": "b6eb5a28-6f10-454d-8756-c8bd7b680b03",
        "colab": {
          "base_uri": "https://localhost:8080/",
          "height": 921
        }
      },
      "source": [
        "import numpy as np # linear algebra\n",
        "from scipy import stats # statistics\n",
        "import pandas as pd # data processing, CSV file I/O (e.g. pd.read_csv)\n",
        "import matplotlib.pyplot as plt # plotting tools\n",
        "import seaborn as sns # advanced plotting tools\n",
        "sns.set(style=\"white\")\n",
        "%matplotlib inline\n",
        "def corrPairs(df):\n",
        "    #Pairwise correlation matrix\n",
        "    corr = df.corr() # Compute the correlation matrix\n",
        "    mask = np.zeros_like(corr, dtype=np.bool) # make mask\n",
        "    mask[np.triu_indices_from(mask)] = True # mask upper triangle\n",
        "    sns.heatmap(corr, mask=mask, cmap='coolwarm', center=0, square=True, linewidths=.3, annot=True, cbar=False)\n",
        "\n",
        "#data['WeekOfYear'] = data.index.Date # add week to view correlation\n",
        "\n",
        "plt.figure(figsize=(15,15))\n",
        "corrPairs(data)"
      ],
      "execution_count": 4,
      "outputs": [
        {
          "output_type": "stream",
          "text": [
            "/usr/local/lib/python3.6/dist-packages/statsmodels/tools/_testing.py:19: FutureWarning: pandas.util.testing is deprecated. Use the functions in the public API at pandas.testing instead.\n",
            "  import pandas.util.testing as tm\n"
          ],
          "name": "stderr"
        },
        {
          "output_type": "display_data",
          "data": {
            "image/png": "[encoded data removed]",
            "text/plain": [
              "<Figure size 1080x1080 with 1 Axes>"
            ]
          },
          "metadata": {
            "tags": [],
            "needs_background": "light"
          }
        }
      ]
    },
    {
      "cell_type": "code",
      "metadata": {
        "id": "YOtQCEi_eaT6",
        "colab_type": "code",
        "outputId": "564fc26e-b528-49ea-a5c5-d7112165cb80",
        "colab": {
          "base_uri": "https://localhost:8080/",
          "height": 266
        }
      },
      "source": [
        "data.corr()"
      ],
      "execution_count": 5,
      "outputs": [
        {
          "output_type": "execute_result",
          "data": {
            "text/html": [
              "<div>\n",
              "<style scoped>\n",
              "    .dataframe tbody tr th:only-of-type {\n",
              "        vertical-align: middle;\n",
              "    }\n",
              "\n",
              "    .dataframe tbody tr th {\n",
              "        vertical-align: top;\n",
              "    }\n",
              "\n",
              "    .dataframe thead th {\n",
              "        text-align: right;\n",
              "    }\n",
              "</style>\n",
              "<table border=\"1\" class=\"dataframe\">\n",
              "  <thead>\n",
              "    <tr style=\"text-align: right;\">\n",
              "      <th></th>\n",
              "      <th>Precipitation</th>\n",
              "      <th>Specific_Humidity</th>\n",
              "      <th>Surface Pressure</th>\n",
              "      <th>Surface_Temperature</th>\n",
              "      <th>Clearness_Index</th>\n",
              "      <th>Radiative_Flux</th>\n",
              "      <th>Radiation</th>\n",
              "    </tr>\n",
              "  </thead>\n",
              "  <tbody>\n",
              "    <tr>\n",
              "      <th>Precipitation</th>\n",
              "      <td>1.000000</td>\n",
              "      <td>0.452469</td>\n",
              "      <td>-0.265497</td>\n",
              "      <td>0.115499</td>\n",
              "      <td>-0.458199</td>\n",
              "      <td>0.325617</td>\n",
              "      <td>-0.231088</td>\n",
              "    </tr>\n",
              "    <tr>\n",
              "      <th>Specific_Humidity</th>\n",
              "      <td>0.452469</td>\n",
              "      <td>1.000000</td>\n",
              "      <td>-0.676242</td>\n",
              "      <td>0.501783</td>\n",
              "      <td>-0.514246</td>\n",
              "      <td>0.784656</td>\n",
              "      <td>0.015835</td>\n",
              "    </tr>\n",
              "    <tr>\n",
              "      <th>Surface Pressure</th>\n",
              "      <td>-0.265497</td>\n",
              "      <td>-0.676242</td>\n",
              "      <td>1.000000</td>\n",
              "      <td>-0.891904</td>\n",
              "      <td>0.334998</td>\n",
              "      <td>-0.872245</td>\n",
              "      <td>-0.446472</td>\n",
              "    </tr>\n",
              "    <tr>\n",
              "      <th>Surface_Temperature</th>\n",
              "      <td>0.115499</td>\n",
              "      <td>0.501783</td>\n",
              "      <td>-0.891904</td>\n",
              "      <td>1.000000</td>\n",
              "      <td>-0.208347</td>\n",
              "      <td>0.844994</td>\n",
              "      <td>0.589007</td>\n",
              "    </tr>\n",
              "    <tr>\n",
              "      <th>Clearness_Index</th>\n",
              "      <td>-0.458199</td>\n",
              "      <td>-0.514246</td>\n",
              "      <td>0.334998</td>\n",
              "      <td>-0.208347</td>\n",
              "      <td>1.000000</td>\n",
              "      <td>-0.505756</td>\n",
              "      <td>0.603927</td>\n",
              "    </tr>\n",
              "    <tr>\n",
              "      <th>Radiative_Flux</th>\n",
              "      <td>0.325617</td>\n",
              "      <td>0.784656</td>\n",
              "      <td>-0.872245</td>\n",
              "      <td>0.844994</td>\n",
              "      <td>-0.505756</td>\n",
              "      <td>1.000000</td>\n",
              "      <td>0.272500</td>\n",
              "    </tr>\n",
              "    <tr>\n",
              "      <th>Radiation</th>\n",
              "      <td>-0.231088</td>\n",
              "      <td>0.015835</td>\n",
              "      <td>-0.446472</td>\n",
              "      <td>0.589007</td>\n",
              "      <td>0.603927</td>\n",
              "      <td>0.272500</td>\n",
              "      <td>1.000000</td>\n",
              "    </tr>\n",
              "  </tbody>\n",
              "</table>\n",
              "</div>"
            ],
            "text/plain": [
              "                     Precipitation  ...  Radiation\n",
              "Precipitation             1.000000  ...  -0.231088\n",
              "Specific_Humidity         0.452469  ...   0.015835\n",
              "Surface Pressure         -0.265497  ...  -0.446472\n",
              "Surface_Temperature       0.115499  ...   0.589007\n",
              "Clearness_Index          -0.458199  ...   0.603927\n",
              "Radiative_Flux            0.325617  ...   0.272500\n",
              "Radiation                -0.231088  ...   1.000000\n",
              "\n",
              "[7 rows x 7 columns]"
            ]
          },
          "metadata": {
            "tags": []
          },
          "execution_count": 5
        }
      ]
    },
    {
      "cell_type": "code",
      "metadata": {
        "colab_type": "code",
        "id": "qBV1-L9-q5Dc",
        "colab": {}
      },
      "source": [
        "input_feature= data.iloc[:, :].values\n",
        "input_data = input_feature"
      ],
      "execution_count": 0,
      "outputs": []
    },
    {
      "cell_type": "code",
      "metadata": {
        "colab_type": "code",
        "id": "MY9EkxocrKMX",
        "colab": {}
      },
      "source": [
        "from sklearn.preprocessing import MinMaxScaler\n",
        "sc= MinMaxScaler(feature_range=(0,1))\n",
        "input_data[:,:] = sc.fit_transform(input_feature[:,:])"
      ],
      "execution_count": 0,
      "outputs": []
    },
    {
      "cell_type": "code",
      "metadata": {
        "id": "sDk8CxGXeaUG",
        "colab_type": "code",
        "outputId": "d7534d21-05e2-4c54-a302-e5215610f8a9",
        "colab": {
          "base_uri": "https://localhost:8080/",
          "height": 51
        }
      },
      "source": [
        "input_data[0]"
      ],
      "execution_count": 8,
      "outputs": [
        {
          "output_type": "execute_result",
          "data": {
            "text/plain": [
              "array([0.        , 0.1348561 , 0.76595745, 0.13535197, 0.84615385,\n",
              "       0.12868217, 0.46593674])"
            ]
          },
          "metadata": {
            "tags": []
          },
          "execution_count": 8
        }
      ]
    },
    {
      "cell_type": "code",
      "metadata": {
        "colab_type": "code",
        "id": "wB69oZTVr78-",
        "colab": {}
      },
      "source": [
        "lookback= 50\n",
        "\n",
        "test_size=int(.3 * len(data))\n",
        "X=[]\n",
        "y=[]\n",
        "for i in range(len(data)-lookback-1):\n",
        "    t=[]\n",
        "    for j in range(0,lookback):\n",
        "        \n",
        "        t.append(input_data[[(i+j)], :])\n",
        "    X.append(t)\n",
        "    y.append(input_data[i+ lookback,6])"
      ],
      "execution_count": 0,
      "outputs": []
    },
    {
      "cell_type": "code",
      "metadata": {
        "colab_type": "code",
        "id": "es5k1KL-sCvo",
        "outputId": "3a72cbde-21ff-4a9c-b468-3a143cc5ac27",
        "colab": {
          "base_uri": "https://localhost:8080/",
          "height": 51
        }
      },
      "source": [
        "X, y= np.array(X), np.array(y)\n",
        "X_test = X[:test_size+lookback]\n",
        "X = X.reshape(X.shape[0],lookback, 7)\n",
        "X_test = X_test.reshape(X_test.shape[0],lookback, 7)\n",
        "print(X.shape)\n",
        "print(X_test.shape)"
      ],
      "execution_count": 10,
      "outputs": [
        {
          "output_type": "stream",
          "text": [
            "(12235, 50, 7)\n",
            "(3735, 50, 7)\n"
          ],
          "name": "stdout"
        }
      ]
    },
    {
      "cell_type": "code",
      "metadata": {
        "colab_type": "code",
        "id": "3MM_YxmdyKHn",
        "outputId": "4539f5be-f0e5-400b-b6be-b331e9b99924",
        "colab": {
          "base_uri": "https://localhost:8080/",
          "height": 289
        }
      },
      "source": [
        "import tensorflow as tf\n",
        "from tensorflow.keras.models import Sequential\n",
        "from tensorflow.keras.layers import Dense, Dropout\n",
        "from tensorflow.keras.layers import LSTM\n",
        "model = tf.keras.Sequential()\n",
        "model.add(LSTM(units=30, return_sequences= True, input_shape=(X.shape[1],7)))\n",
        "model.add(LSTM(units=30, return_sequences=True))\n",
        "model.add(LSTM(units=30))\n",
        "model.add(Dense(units=1))\n",
        "model.summary()"
      ],
      "execution_count": 11,
      "outputs": [
        {
          "output_type": "stream",
          "text": [
            "Model: \"sequential\"\n",
            "_________________________________________________________________\n",
            "Layer (type)                 Output Shape              Param #   \n",
            "=================================================================\n",
            "lstm (LSTM)                  (None, 50, 30)            4560      \n",
            "_________________________________________________________________\n",
            "lstm_1 (LSTM)                (None, 50, 30)            7320      \n",
            "_________________________________________________________________\n",
            "lstm_2 (LSTM)                (None, 30)                7320      \n",
            "_________________________________________________________________\n",
            "dense (Dense)                (None, 1)                 31        \n",
            "=================================================================\n",
            "Total params: 19,231\n",
            "Trainable params: 19,231\n",
            "Non-trainable params: 0\n",
            "_________________________________________________________________\n"
          ],
          "name": "stdout"
        }
      ]
    },
    {
      "cell_type": "code",
      "metadata": {
        "colab_type": "code",
        "id": "igq5T62qyOxB",
        "colab": {}
      },
      "source": [
        "def r2_score(y_true, y_pred):\n",
        "    from keras import backend as K\n",
        "    SS_res =  K.sum(K.square( y_true-y_pred ))\n",
        "    SS_tot = K.sum(K.square( y_true - K.mean(y_true) ) )\n",
        "    return ( 1 - SS_res/(SS_tot + K.epsilon()) )\n",
        "\n",
        "model.compile(optimizer='adam', loss='mean_squared_error', metrics=['mae', 'mape', r2_score])"
      ],
      "execution_count": 0,
      "outputs": []
    },
    {
      "cell_type": "code",
      "metadata": {
        "colab_type": "code",
        "id": "FvtUS0QcyXqF",
        "outputId": "9f0b76f9-5ef0-49b3-8f10-e4b42053096a",
        "colab": {
          "base_uri": "https://localhost:8080/",
          "height": 1000
        }
      },
      "source": [
        "history = model.fit(X, y, epochs=50, batch_size=200)"
      ],
      "execution_count": 13,
      "outputs": [
        {
          "output_type": "stream",
          "text": [
            "Epoch 1/50\n"
          ],
          "name": "stdout"
        },
        {
          "output_type": "stream",
          "text": [
            "Using TensorFlow backend.\n"
          ],
          "name": "stderr"
        },
        {
          "output_type": "stream",
          "text": [
            "62/62 [==============================] - 7s 106ms/step - loss: 0.0546 - mae: 0.1693 - mape: 42516.9609 - r2_score: -0.8031\n",
            "Epoch 2/50\n",
            "62/62 [==============================] - 7s 106ms/step - loss: 0.0183 - mae: 0.1024 - mape: 40669.4258 - r2_score: 0.3941\n",
            "Epoch 3/50\n",
            "62/62 [==============================] - 7s 106ms/step - loss: 0.0163 - mae: 0.0934 - mape: 36607.3086 - r2_score: 0.4563\n",
            "Epoch 4/50\n",
            "62/62 [==============================] - 7s 106ms/step - loss: 0.0161 - mae: 0.0912 - mape: 37361.0234 - r2_score: 0.4640\n",
            "Epoch 5/50\n",
            "62/62 [==============================] - 7s 106ms/step - loss: 0.0157 - mae: 0.0901 - mape: 39477.0898 - r2_score: 0.4788\n",
            "Epoch 6/50\n",
            "62/62 [==============================] - 7s 106ms/step - loss: 0.0154 - mae: 0.0883 - mape: 40186.7812 - r2_score: 0.4848\n",
            "Epoch 7/50\n",
            "62/62 [==============================] - 7s 105ms/step - loss: 0.0152 - mae: 0.0875 - mape: 40405.2617 - r2_score: 0.4952\n",
            "Epoch 8/50\n",
            "62/62 [==============================] - 7s 106ms/step - loss: 0.0149 - mae: 0.0860 - mape: 37497.8047 - r2_score: 0.5061\n",
            "Epoch 9/50\n",
            "62/62 [==============================] - 7s 106ms/step - loss: 0.0149 - mae: 0.0864 - mape: 36228.7031 - r2_score: 0.5092\n",
            "Epoch 10/50\n",
            "62/62 [==============================] - 7s 106ms/step - loss: 0.0149 - mae: 0.0862 - mape: 37256.9180 - r2_score: 0.5054\n",
            "Epoch 11/50\n",
            "62/62 [==============================] - 7s 107ms/step - loss: 0.0147 - mae: 0.0855 - mape: 36382.5547 - r2_score: 0.5118\n",
            "Epoch 12/50\n",
            "62/62 [==============================] - 7s 105ms/step - loss: 0.0145 - mae: 0.0846 - mape: 37153.6758 - r2_score: 0.5179\n",
            "Epoch 13/50\n",
            "62/62 [==============================] - 7s 106ms/step - loss: 0.0144 - mae: 0.0846 - mape: 37366.4414 - r2_score: 0.5234\n",
            "Epoch 14/50\n",
            "62/62 [==============================] - 7s 106ms/step - loss: 0.0144 - mae: 0.0845 - mape: 36634.1719 - r2_score: 0.5227\n",
            "Epoch 15/50\n",
            "62/62 [==============================] - 7s 106ms/step - loss: 0.0142 - mae: 0.0838 - mape: 35890.4023 - r2_score: 0.5265\n",
            "Epoch 16/50\n",
            "62/62 [==============================] - 7s 106ms/step - loss: 0.0140 - mae: 0.0828 - mape: 34289.6523 - r2_score: 0.5352\n",
            "Epoch 17/50\n",
            "62/62 [==============================] - 7s 106ms/step - loss: 0.0139 - mae: 0.0825 - mape: 33714.6562 - r2_score: 0.5374\n",
            "Epoch 18/50\n",
            "62/62 [==============================] - 7s 106ms/step - loss: 0.0139 - mae: 0.0830 - mape: 31259.1973 - r2_score: 0.5390\n",
            "Epoch 19/50\n",
            "62/62 [==============================] - 7s 106ms/step - loss: 0.0134 - mae: 0.0808 - mape: 31664.7773 - r2_score: 0.5596\n",
            "Epoch 20/50\n",
            "62/62 [==============================] - 7s 106ms/step - loss: 0.0131 - mae: 0.0798 - mape: 32268.6973 - r2_score: 0.5671\n",
            "Epoch 21/50\n",
            "62/62 [==============================] - 7s 106ms/step - loss: 0.0128 - mae: 0.0791 - mape: 29994.7617 - r2_score: 0.5765\n",
            "Epoch 22/50\n",
            "62/62 [==============================] - 7s 105ms/step - loss: 0.0127 - mae: 0.0788 - mape: 28596.9375 - r2_score: 0.5785\n",
            "Epoch 23/50\n",
            "62/62 [==============================] - 7s 106ms/step - loss: 0.0127 - mae: 0.0781 - mape: 28022.0879 - r2_score: 0.5838\n",
            "Epoch 24/50\n",
            "62/62 [==============================] - 7s 106ms/step - loss: 0.0124 - mae: 0.0769 - mape: 29153.6738 - r2_score: 0.5886\n",
            "Epoch 25/50\n",
            "62/62 [==============================] - 7s 107ms/step - loss: 0.0124 - mae: 0.0772 - mape: 28266.8145 - r2_score: 0.5894\n",
            "Epoch 26/50\n",
            "62/62 [==============================] - 7s 108ms/step - loss: 0.0124 - mae: 0.0769 - mape: 28928.8730 - r2_score: 0.5892\n",
            "Epoch 27/50\n",
            "62/62 [==============================] - 7s 106ms/step - loss: 0.0124 - mae: 0.0771 - mape: 29185.0508 - r2_score: 0.5928\n",
            "Epoch 28/50\n",
            "62/62 [==============================] - 7s 106ms/step - loss: 0.0124 - mae: 0.0774 - mape: 27693.8457 - r2_score: 0.5910\n",
            "Epoch 29/50\n",
            "62/62 [==============================] - 7s 107ms/step - loss: 0.0126 - mae: 0.0781 - mape: 27255.6523 - r2_score: 0.5837\n",
            "Epoch 30/50\n",
            "62/62 [==============================] - 7s 106ms/step - loss: 0.0124 - mae: 0.0768 - mape: 29087.1680 - r2_score: 0.5906\n",
            "Epoch 31/50\n",
            "62/62 [==============================] - 7s 106ms/step - loss: 0.0124 - mae: 0.0772 - mape: 31173.2617 - r2_score: 0.5904\n",
            "Epoch 32/50\n",
            "62/62 [==============================] - 7s 106ms/step - loss: 0.0123 - mae: 0.0766 - mape: 29751.5234 - r2_score: 0.5935\n",
            "Epoch 33/50\n",
            "62/62 [==============================] - 7s 106ms/step - loss: 0.0122 - mae: 0.0761 - mape: 28260.3418 - r2_score: 0.5941\n",
            "Epoch 34/50\n",
            "62/62 [==============================] - 7s 106ms/step - loss: 0.0123 - mae: 0.0768 - mape: 28536.0742 - r2_score: 0.5916\n",
            "Epoch 35/50\n",
            "62/62 [==============================] - 7s 107ms/step - loss: 0.0124 - mae: 0.0773 - mape: 29404.5078 - r2_score: 0.5908\n",
            "Epoch 36/50\n",
            "62/62 [==============================] - 7s 105ms/step - loss: 0.0123 - mae: 0.0762 - mape: 26575.0469 - r2_score: 0.5950\n",
            "Epoch 37/50\n",
            "62/62 [==============================] - 7s 106ms/step - loss: 0.0122 - mae: 0.0764 - mape: 28823.0840 - r2_score: 0.5941\n",
            "Epoch 38/50\n",
            "62/62 [==============================] - 7s 107ms/step - loss: 0.0123 - mae: 0.0766 - mape: 28747.2305 - r2_score: 0.5913\n",
            "Epoch 39/50\n",
            "62/62 [==============================] - 7s 107ms/step - loss: 0.0121 - mae: 0.0757 - mape: 30393.0605 - r2_score: 0.5978\n",
            "Epoch 40/50\n",
            "62/62 [==============================] - 7s 106ms/step - loss: 0.0122 - mae: 0.0763 - mape: 29631.0371 - r2_score: 0.5965\n",
            "Epoch 41/50\n",
            "62/62 [==============================] - 7s 106ms/step - loss: 0.0121 - mae: 0.0757 - mape: 29231.7656 - r2_score: 0.5988\n",
            "Epoch 42/50\n",
            "62/62 [==============================] - 7s 107ms/step - loss: 0.0123 - mae: 0.0771 - mape: 30966.2598 - r2_score: 0.5926\n",
            "Epoch 43/50\n",
            "62/62 [==============================] - 7s 106ms/step - loss: 0.0122 - mae: 0.0765 - mape: 28022.7188 - r2_score: 0.5958\n",
            "Epoch 44/50\n",
            "62/62 [==============================] - 7s 106ms/step - loss: 0.0122 - mae: 0.0761 - mape: 28319.4277 - r2_score: 0.5977\n",
            "Epoch 45/50\n",
            "62/62 [==============================] - 7s 106ms/step - loss: 0.0122 - mae: 0.0765 - mape: 30164.5723 - r2_score: 0.5921\n",
            "Epoch 46/50\n",
            "62/62 [==============================] - 7s 106ms/step - loss: 0.0121 - mae: 0.0759 - mape: 27382.0508 - r2_score: 0.6002\n",
            "Epoch 47/50\n",
            "62/62 [==============================] - 7s 106ms/step - loss: 0.0121 - mae: 0.0759 - mape: 27984.6621 - r2_score: 0.5979\n",
            "Epoch 48/50\n",
            "62/62 [==============================] - 7s 106ms/step - loss: 0.0120 - mae: 0.0753 - mape: 29526.8203 - r2_score: 0.6006\n",
            "Epoch 49/50\n",
            "62/62 [==============================] - 7s 105ms/step - loss: 0.0122 - mae: 0.0768 - mape: 29371.4199 - r2_score: 0.5926\n",
            "Epoch 50/50\n",
            "62/62 [==============================] - 7s 106ms/step - loss: 0.0122 - mae: 0.0769 - mape: 29748.9336 - r2_score: 0.5916\n"
          ],
          "name": "stdout"
        }
      ]
    },
    {
      "cell_type": "code",
      "metadata": {
        "colab_type": "code",
        "id": "E0h_TMbi0nyo",
        "colab": {}
      },
      "source": [
        "predicted_value= model.predict(X_test)"
      ],
      "execution_count": 0,
      "outputs": []
    },
    {
      "cell_type": "code",
      "metadata": {
        "id": "UrR3mKIDeaUl",
        "colab_type": "code",
        "outputId": "cdabc072-11ac-49c6-ed5a-76063c891b73",
        "colab": {
          "base_uri": "https://localhost:8080/",
          "height": 331
        }
      },
      "source": [
        "history_dict = history.history\n",
        "print(history_dict.keys())\n",
        "fig, axs = plt.subplots(4)\n",
        "fig.suptitle('Vertically stacked subplots')\n",
        "axs[0].plot(history.history['loss'])\n",
        "axs[1].plot(history.history['mae'])\n",
        "axs[2].plot(history.history['mape'])\n",
        "axs[3].plot(history.history['r2_score'])\n",
        "# plt.plot(history.history['mean_absolute_error'])\n",
        "# plt.plot(history.history['mean_absolute_percentage_error'])\n",
        "# plt.plot(history.history['r2_score'])"
      ],
      "execution_count": 15,
      "outputs": [
        {
          "output_type": "stream",
          "text": [
            "dict_keys(['loss', 'mae', 'mape', 'r2_score'])\n"
          ],
          "name": "stdout"
        },
        {
          "output_type": "execute_result",
          "data": {
            "text/plain": [
              "[<matplotlib.lines.Line2D at 0x7ff7469222e8>]"
            ]
          },
          "metadata": {
            "tags": []
          },
          "execution_count": 15
        },
        {
          "output_type": "display_data",
          "data": {
            "image/png": "[encoded data removed]",
            "text/plain": [
              "<Figure size 432x288 with 4 Axes>"
            ]
          },
          "metadata": {
            "tags": [],
            "needs_background": "light"
          }
        }
      ]
    },
    {
      "cell_type": "code",
      "metadata": {
        "colab_type": "code",
        "id": "J25iSPXRyi7v",
        "outputId": "5c95f3d2-c380-4317-eb76-ad02bb19de4d",
        "colab": {
          "base_uri": "https://localhost:8080/",
          "height": 301
        }
      },
      "source": [
        "plt.plot(predicted_value, color= 'red')\n",
        "plt.plot(input_data[lookback:test_size+(2*lookback),6], color='green')\n",
        "plt.title(\"Actual vs Predicted\")\n",
        "plt.xlabel(\"Time\")\n",
        "plt.ylabel(\"Radiation\")\n",
        "plt.show()"
      ],
      "execution_count": 16,
      "outputs": [
        {
          "output_type": "display_data",
          "data": {
            "image/png": "[encoded data removed]",
            "text/plain": [
              "<Figure size 432x288 with 1 Axes>"
            ]
          },
          "metadata": {
            "tags": [],
            "needs_background": "light"
          }
        }
      ]
    }
  ]
}