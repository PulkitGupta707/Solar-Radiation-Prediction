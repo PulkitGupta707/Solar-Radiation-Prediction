{
  "nbformat": 4,
  "nbformat_minor": 0,
  "metadata": {
    "kernelspec": {
      "display_name": "Python 3",
      "language": "python",
      "name": "python3"
    },
    "language_info": {
      "codemirror_mode": {
        "name": "ipython",
        "version": 3
      },
      "file_extension": ".py",
      "mimetype": "text/x-python",
      "name": "python",
      "nbconvert_exporter": "python",
      "pygments_lexer": "ipython3",
      "version": "3.6.5"
    },
    "colab": {
      "name": "LSTM.ipynb",
      "provenance": []
    }
  },
  "cells": [
    {
      "cell_type": "code",
      "metadata": {
        "id": "tngEAFl0smSl",
        "colab_type": "code",
        "colab": {}
      },
      "source": [
        "import numpy as np\n",
        "import pandas as pd\n",
        "import matplotlib.pyplot as plt\n",
        "%matplotlib inline"
      ],
      "execution_count": 0,
      "outputs": []
    },
    {
      "cell_type": "code",
      "metadata": {
        "id": "n5gOTzdcsmSw",
        "colab_type": "code",
        "colab": {}
      },
      "source": [
        "data = pd.read_csv('https://raw.githubusercontent.com/rohanmittal149/Solar-Radiation-Prediction/Major/SolarDelhi.csv', index_col = 0)"
      ],
      "execution_count": 0,
      "outputs": []
    },
    {
      "cell_type": "code",
      "metadata": {
        "id": "kQya00XVsmS2",
        "colab_type": "code",
        "outputId": "96fb9ab8-3624-4cbd-b412-6ec2bbe0b1af",
        "colab": {
          "base_uri": "https://localhost:8080/",
          "height": 204
        }
      },
      "source": [
        "data.head()"
      ],
      "execution_count": 35,
      "outputs": [
        {
          "output_type": "execute_result",
          "data": {
            "text/html": [
              "<div>\n",
              "<style scoped>\n",
              "    .dataframe tbody tr th:only-of-type {\n",
              "        vertical-align: middle;\n",
              "    }\n",
              "\n",
              "    .dataframe tbody tr th {\n",
              "        vertical-align: top;\n",
              "    }\n",
              "\n",
              "    .dataframe thead th {\n",
              "        text-align: right;\n",
              "    }\n",
              "</style>\n",
              "<table border=\"1\" class=\"dataframe\">\n",
              "  <thead>\n",
              "    <tr style=\"text-align: right;\">\n",
              "      <th></th>\n",
              "      <th>YEAR</th>\n",
              "      <th>MO</th>\n",
              "      <th>DY</th>\n",
              "      <th>PRECTOT</th>\n",
              "      <th>QV2M</th>\n",
              "      <th>PS</th>\n",
              "      <th>TS</th>\n",
              "      <th>KT</th>\n",
              "      <th>ALLSKY_SFC_SW_DWN</th>\n",
              "      <th>ALLSKY_SFC_LW_DWN</th>\n",
              "      <th>Date</th>\n",
              "    </tr>\n",
              "  </thead>\n",
              "  <tbody>\n",
              "    <tr>\n",
              "      <th>0</th>\n",
              "      <td>1986</td>\n",
              "      <td>1</td>\n",
              "      <td>1</td>\n",
              "      <td>0.0</td>\n",
              "      <td>0.003886</td>\n",
              "      <td>99.11</td>\n",
              "      <td>11.85</td>\n",
              "      <td>0.68</td>\n",
              "      <td>3.97</td>\n",
              "      <td>6.50</td>\n",
              "      <td>1-1-1986</td>\n",
              "    </tr>\n",
              "    <tr>\n",
              "      <th>1</th>\n",
              "      <td>1986</td>\n",
              "      <td>1</td>\n",
              "      <td>1</td>\n",
              "      <td>0.0</td>\n",
              "      <td>0.003804</td>\n",
              "      <td>99.05</td>\n",
              "      <td>11.48</td>\n",
              "      <td>0.68</td>\n",
              "      <td>3.97</td>\n",
              "      <td>6.50</td>\n",
              "      <td>1-1-1986</td>\n",
              "    </tr>\n",
              "    <tr>\n",
              "      <th>2</th>\n",
              "      <td>1986</td>\n",
              "      <td>1</td>\n",
              "      <td>2</td>\n",
              "      <td>0.0</td>\n",
              "      <td>0.003462</td>\n",
              "      <td>99.13</td>\n",
              "      <td>11.86</td>\n",
              "      <td>0.76</td>\n",
              "      <td>4.42</td>\n",
              "      <td>6.36</td>\n",
              "      <td>2-1-1986</td>\n",
              "    </tr>\n",
              "    <tr>\n",
              "      <th>3</th>\n",
              "      <td>1986</td>\n",
              "      <td>1</td>\n",
              "      <td>2</td>\n",
              "      <td>0.0</td>\n",
              "      <td>0.003457</td>\n",
              "      <td>99.06</td>\n",
              "      <td>12.04</td>\n",
              "      <td>0.76</td>\n",
              "      <td>4.42</td>\n",
              "      <td>6.36</td>\n",
              "      <td>2-1-1986</td>\n",
              "    </tr>\n",
              "    <tr>\n",
              "      <th>4</th>\n",
              "      <td>1986</td>\n",
              "      <td>1</td>\n",
              "      <td>3</td>\n",
              "      <td>0.0</td>\n",
              "      <td>0.002913</td>\n",
              "      <td>99.31</td>\n",
              "      <td>10.09</td>\n",
              "      <td>0.73</td>\n",
              "      <td>4.29</td>\n",
              "      <td>6.50</td>\n",
              "      <td>3-1-1986</td>\n",
              "    </tr>\n",
              "  </tbody>\n",
              "</table>\n",
              "</div>"
            ],
            "text/plain": [
              "   YEAR  MO  DY  PRECTOT  ...    KT  ALLSKY_SFC_SW_DWN  ALLSKY_SFC_LW_DWN      Date\n",
              "0  1986   1   1      0.0  ...  0.68               3.97               6.50  1-1-1986\n",
              "1  1986   1   1      0.0  ...  0.68               3.97               6.50  1-1-1986\n",
              "2  1986   1   2      0.0  ...  0.76               4.42               6.36  2-1-1986\n",
              "3  1986   1   2      0.0  ...  0.76               4.42               6.36  2-1-1986\n",
              "4  1986   1   3      0.0  ...  0.73               4.29               6.50  3-1-1986\n",
              "\n",
              "[5 rows x 11 columns]"
            ]
          },
          "metadata": {
            "tags": []
          },
          "execution_count": 35
        }
      ]
    },
    {
      "cell_type": "code",
      "metadata": {
        "id": "G8TMzWg2smTC",
        "colab_type": "code",
        "colab": {}
      },
      "source": [
        "data.drop(['YEAR','DY','MO'], axis = 1, inplace =True)"
      ],
      "execution_count": 0,
      "outputs": []
    },
    {
      "cell_type": "code",
      "metadata": {
        "id": "xprqvcOVsmTI",
        "colab_type": "code",
        "outputId": "e167f8c2-5499-4704-865f-558bc6fd7ed0",
        "colab": {
          "base_uri": "https://localhost:8080/",
          "height": 980
        }
      },
      "source": [
        "import numpy as np # linear algebra\n",
        "from scipy import stats # statistics\n",
        "import pandas as pd # data processing, CSV file I/O (e.g. pd.read_csv)\n",
        "import matplotlib.pyplot as plt # plotting tools\n",
        "import seaborn as sns # advanced plotting tools\n",
        "sns.set(style=\"white\")\n",
        "%matplotlib inline\n",
        "def corrPairs(df):\n",
        "    #Pairwise correlation matrix\n",
        "    corr = df.corr() # Compute the correlation matrix\n",
        "    mask = np.zeros_like(corr, dtype=np.bool) # make mask\n",
        "    mask[np.triu_indices_from(mask)] = True # mask upper triangle\n",
        "    sns.heatmap(corr, mask=mask, cmap='coolwarm', center=0, square=True, linewidths=.3, annot=True, cbar=False)\n",
        "\n",
        "#data['WeekOfYear'] = data.index.Date # add week to view correlation\n",
        "\n",
        "plt.figure(figsize=(15,15))\n",
        "corrPairs(data)"
      ],
      "execution_count": 37,
      "outputs": [
        {
          "output_type": "display_data",
          "data": {
            "image/png": "[encoded data removed]",
            "text/plain": [
              "<Figure size 1080x1080 with 1 Axes>"
            ]
          },
          "metadata": {
            "tags": []
          }
        }
      ]
    },
    {
      "cell_type": "code",
      "metadata": {
        "id": "qBV1-L9-q5Dc",
        "colab_type": "code",
        "colab": {}
      },
      "source": [
        "input_feature= data.iloc[:, :-2].values\n",
        "input_data = input_feature"
      ],
      "execution_count": 0,
      "outputs": []
    },
    {
      "cell_type": "code",
      "metadata": {
        "id": "MY9EkxocrKMX",
        "colab_type": "code",
        "colab": {}
      },
      "source": [
        "from sklearn.preprocessing import MinMaxScaler\n",
        "sc= MinMaxScaler(feature_range=(0,1))\n",
        "input_data[:,:] = sc.fit_transform(input_feature[:,:])"
      ],
      "execution_count": 0,
      "outputs": []
    },
    {
      "cell_type": "code",
      "metadata": {
        "id": "wB69oZTVr78-",
        "colab_type": "code",
        "colab": {}
      },
      "source": [
        "lookback= 50\n",
        "\n",
        "test_size=int(.3 * len(data))\n",
        "X=[]\n",
        "y=[]\n",
        "for i in range(len(data)-lookback-1):\n",
        "    t=[]\n",
        "    for j in range(0,lookback):\n",
        "        \n",
        "        t.append(input_data[[(i+j)], :])\n",
        "    X.append(t)\n",
        "    y.append(input_data[i+ lookback,1])"
      ],
      "execution_count": 0,
      "outputs": []
    },
    {
      "cell_type": "code",
      "metadata": {
        "id": "es5k1KL-sCvo",
        "colab_type": "code",
        "colab": {
          "base_uri": "https://localhost:8080/",
          "height": 51
        },
        "outputId": "63c57ae8-4b23-4114-e803-09d8cd07b672"
      },
      "source": [
        "X, y= np.array(X), np.array(y)\n",
        "X_test = X[:test_size+lookback]\n",
        "X = X.reshape(X.shape[0],lookback, 6)\n",
        "X_test = X_test.reshape(X_test.shape[0],lookback, 6)\n",
        "print(X.shape)\n",
        "print(X_test.shape)"
      ],
      "execution_count": 41,
      "outputs": [
        {
          "output_type": "stream",
          "text": [
            "(24521, 50, 6)\n",
            "(7421, 50, 6)\n"
          ],
          "name": "stdout"
        }
      ]
    },
    {
      "cell_type": "code",
      "metadata": {
        "id": "JqMaq69tyBHf",
        "colab_type": "code",
        "colab": {}
      },
      "source": [
        "from keras import Sequential\n",
        "from keras.layers import Dense, LSTM"
      ],
      "execution_count": 0,
      "outputs": []
    },
    {
      "cell_type": "code",
      "metadata": {
        "id": "3MM_YxmdyKHn",
        "colab_type": "code",
        "colab": {
          "base_uri": "https://localhost:8080/",
          "height": 289
        },
        "outputId": "4bb0a1a6-8688-4bf0-81c6-4a15411e47cc"
      },
      "source": [
        "model = Sequential()\n",
        "model.add(LSTM(units=30, return_sequences= True, input_shape=(X.shape[1],6)))\n",
        "model.add(LSTM(units=30, return_sequences=True))\n",
        "model.add(LSTM(units=30))\n",
        "model.add(Dense(units=1))\n",
        "model.summary()"
      ],
      "execution_count": 43,
      "outputs": [
        {
          "output_type": "stream",
          "text": [
            "Model: \"sequential_3\"\n",
            "_________________________________________________________________\n",
            "Layer (type)                 Output Shape              Param #   \n",
            "=================================================================\n",
            "lstm_7 (LSTM)                (None, 50, 30)            4440      \n",
            "_________________________________________________________________\n",
            "lstm_8 (LSTM)                (None, 50, 30)            7320      \n",
            "_________________________________________________________________\n",
            "lstm_9 (LSTM)                (None, 30)                7320      \n",
            "_________________________________________________________________\n",
            "dense_3 (Dense)              (None, 1)                 31        \n",
            "=================================================================\n",
            "Total params: 19,111\n",
            "Trainable params: 19,111\n",
            "Non-trainable params: 0\n",
            "_________________________________________________________________\n"
          ],
          "name": "stdout"
        }
      ]
    },
    {
      "cell_type": "code",
      "metadata": {
        "id": "igq5T62qyOxB",
        "colab_type": "code",
        "colab": {}
      },
      "source": [
        "model.compile(optimizer='adam', loss='mean_squared_error')"
      ],
      "execution_count": 0,
      "outputs": []
    },
    {
      "cell_type": "code",
      "metadata": {
        "id": "FvtUS0QcyXqF",
        "colab_type": "code",
        "colab": {
          "base_uri": "https://localhost:8080/",
          "height": 714
        },
        "outputId": "4e570fc5-4f85-448c-db8b-edf1784607e6"
      },
      "source": [
        "model.fit(X, y, epochs=20, batch_size=512)"
      ],
      "execution_count": 45,
      "outputs": [
        {
          "output_type": "stream",
          "text": [
            "Epoch 1/20\n",
            "24521/24521 [==============================] - 16s 670us/step - loss: 0.0445\n",
            "Epoch 2/20\n",
            "24521/24521 [==============================] - 14s 579us/step - loss: 0.0068\n",
            "Epoch 3/20\n",
            "24521/24521 [==============================] - 14s 582us/step - loss: 0.0062\n",
            "Epoch 4/20\n",
            "24521/24521 [==============================] - 14s 579us/step - loss: 0.0057\n",
            "Epoch 5/20\n",
            "24521/24521 [==============================] - 14s 579us/step - loss: 0.0054\n",
            "Epoch 6/20\n",
            "24521/24521 [==============================] - 14s 580us/step - loss: 0.0050\n",
            "Epoch 7/20\n",
            "24521/24521 [==============================] - 14s 582us/step - loss: 0.0046\n",
            "Epoch 8/20\n",
            "24521/24521 [==============================] - 14s 583us/step - loss: 0.0042\n",
            "Epoch 9/20\n",
            "24521/24521 [==============================] - 14s 580us/step - loss: 0.0037\n",
            "Epoch 10/20\n",
            "24521/24521 [==============================] - 14s 580us/step - loss: 0.0033\n",
            "Epoch 11/20\n",
            "24521/24521 [==============================] - 15s 594us/step - loss: 0.0027\n",
            "Epoch 12/20\n",
            "24521/24521 [==============================] - 14s 588us/step - loss: 0.0024\n",
            "Epoch 13/20\n",
            "24521/24521 [==============================] - 14s 579us/step - loss: 0.0022\n",
            "Epoch 14/20\n",
            "24521/24521 [==============================] - 14s 579us/step - loss: 0.0019\n",
            "Epoch 15/20\n",
            "24521/24521 [==============================] - 14s 577us/step - loss: 0.0017\n",
            "Epoch 16/20\n",
            "24521/24521 [==============================] - 14s 581us/step - loss: 0.0016\n",
            "Epoch 17/20\n",
            "24521/24521 [==============================] - 14s 585us/step - loss: 0.0015\n",
            "Epoch 18/20\n",
            "24521/24521 [==============================] - 15s 594us/step - loss: 0.0014\n",
            "Epoch 19/20\n",
            "24521/24521 [==============================] - 14s 581us/step - loss: 0.0013\n",
            "Epoch 20/20\n",
            "24521/24521 [==============================] - 14s 586us/step - loss: 0.0013\n"
          ],
          "name": "stdout"
        },
        {
          "output_type": "execute_result",
          "data": {
            "text/plain": [
              "<keras.callbacks.History at 0x7faf519aaba8>"
            ]
          },
          "metadata": {
            "tags": []
          },
          "execution_count": 45
        }
      ]
    },
    {
      "cell_type": "code",
      "metadata": {
        "id": "E0h_TMbi0nyo",
        "colab_type": "code",
        "colab": {}
      },
      "source": [
        "predicted_value= model.predict(X_test)"
      ],
      "execution_count": 0,
      "outputs": []
    },
    {
      "cell_type": "code",
      "metadata": {
        "id": "J25iSPXRyi7v",
        "colab_type": "code",
        "colab": {
          "base_uri": "https://localhost:8080/",
          "height": 301
        },
        "outputId": "9bb1b21d-cb25-4d1e-b9e4-eeb8356a2af0"
      },
      "source": [
        "plt.plot(predicted_value, color= 'red')\n",
        "plt.plot(input_data[lookback:test_size+(2*lookback),1], color='green')\n",
        "plt.title(\"Actual vs Predicted\")\n",
        "plt.xlabel(\"Time\")\n",
        "plt.ylabel(\"Radiation\")\n",
        "plt.show()"
      ],
      "execution_count": 49,
      "outputs": [
        {
          "output_type": "display_data",
          "data": {
            "image/png": "[encoded data removed]",
            "text/plain": [
              "<Figure size 432x288 with 1 Axes>"
            ]
          },
          "metadata": {
            "tags": []
          }
        }
      ]
    }
  ]
}