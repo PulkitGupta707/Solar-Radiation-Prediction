{
  "nbformat": 4,
  "nbformat_minor": 0,
  "metadata": {
    "colab": {
      "name": "LSTM.ipynb",
      "provenance": []
    },
    "kernelspec": {
      "display_name": "Python 3",
      "language": "python",
      "name": "python3"
    },
    "language_info": {
      "codemirror_mode": {
        "name": "ipython",
        "version": 3
      },
      "file_extension": ".py",
      "mimetype": "text/x-python",
      "name": "python",
      "nbconvert_exporter": "python",
      "pygments_lexer": "ipython3",
      "version": "3.7.2"
    }
  },
  "cells": [
    {
      "cell_type": "code",
      "metadata": {
        "colab_type": "code",
        "id": "tngEAFl0smSl",
        "colab": {}
      },
      "source": [
        "import numpy as np\n",
        "import pandas as pd\n",
        "import matplotlib.pyplot as plt\n",
        "%matplotlib inline"
      ],
      "execution_count": 0,
      "outputs": []
    },
    {
      "cell_type": "code",
      "metadata": {
        "colab_type": "code",
        "id": "n5gOTzdcsmSw",
        "colab": {}
      },
      "source": [
        "data = pd.read_csv('https://raw.githubusercontent.com/ZafarAqil/Solar-Radiation-Prediction/Major/SolarDelhi.csv',parse_dates = ['Date'], index_col = ['Date'])"
      ],
      "execution_count": 0,
      "outputs": []
    },
    {
      "cell_type": "code",
      "metadata": {
        "colab_type": "code",
        "id": "kQya00XVsmS2",
        "outputId": "d2f0b68f-d43d-4a46-923f-05b071ec8d35",
        "colab": {
          "base_uri": "https://localhost:8080/",
          "height": 235
        }
      },
      "source": [
        "data.head()"
      ],
      "execution_count": 3,
      "outputs": [
        {
          "output_type": "execute_result",
          "data": {
            "text/html": [
              "<div>\n",
              "<style scoped>\n",
              "    .dataframe tbody tr th:only-of-type {\n",
              "        vertical-align: middle;\n",
              "    }\n",
              "\n",
              "    .dataframe tbody tr th {\n",
              "        vertical-align: top;\n",
              "    }\n",
              "\n",
              "    .dataframe thead th {\n",
              "        text-align: right;\n",
              "    }\n",
              "</style>\n",
              "<table border=\"1\" class=\"dataframe\">\n",
              "  <thead>\n",
              "    <tr style=\"text-align: right;\">\n",
              "      <th></th>\n",
              "      <th>Precipitation</th>\n",
              "      <th>Specific_Humidity</th>\n",
              "      <th>Surface Pressure</th>\n",
              "      <th>Surface_Temperature</th>\n",
              "      <th>Clearness_Index</th>\n",
              "      <th>Radiative_Flux</th>\n",
              "      <th>Radiation</th>\n",
              "    </tr>\n",
              "    <tr>\n",
              "      <th>Date</th>\n",
              "      <th></th>\n",
              "      <th></th>\n",
              "      <th></th>\n",
              "      <th></th>\n",
              "      <th></th>\n",
              "      <th></th>\n",
              "      <th></th>\n",
              "    </tr>\n",
              "  </thead>\n",
              "  <tbody>\n",
              "    <tr>\n",
              "      <th>1986-01-01</th>\n",
              "      <td>0.0</td>\n",
              "      <td>0.003804</td>\n",
              "      <td>99.05</td>\n",
              "      <td>11.48</td>\n",
              "      <td>0.68</td>\n",
              "      <td>6.50</td>\n",
              "      <td>3.97</td>\n",
              "    </tr>\n",
              "    <tr>\n",
              "      <th>1986-02-01</th>\n",
              "      <td>0.0</td>\n",
              "      <td>0.003457</td>\n",
              "      <td>99.06</td>\n",
              "      <td>12.04</td>\n",
              "      <td>0.76</td>\n",
              "      <td>6.36</td>\n",
              "      <td>4.42</td>\n",
              "    </tr>\n",
              "    <tr>\n",
              "      <th>1986-03-01</th>\n",
              "      <td>0.0</td>\n",
              "      <td>0.002902</td>\n",
              "      <td>99.23</td>\n",
              "      <td>9.92</td>\n",
              "      <td>0.73</td>\n",
              "      <td>6.50</td>\n",
              "      <td>4.29</td>\n",
              "    </tr>\n",
              "    <tr>\n",
              "      <th>1986-04-01</th>\n",
              "      <td>0.0</td>\n",
              "      <td>0.002433</td>\n",
              "      <td>99.17</td>\n",
              "      <td>9.33</td>\n",
              "      <td>0.72</td>\n",
              "      <td>6.18</td>\n",
              "      <td>4.19</td>\n",
              "    </tr>\n",
              "    <tr>\n",
              "      <th>1986-05-01</th>\n",
              "      <td>0.0</td>\n",
              "      <td>0.002600</td>\n",
              "      <td>99.00</td>\n",
              "      <td>9.36</td>\n",
              "      <td>0.75</td>\n",
              "      <td>6.57</td>\n",
              "      <td>4.39</td>\n",
              "    </tr>\n",
              "  </tbody>\n",
              "</table>\n",
              "</div>"
            ],
            "text/plain": [
              "            Precipitation  Specific_Humidity  ...  Radiative_Flux  Radiation\n",
              "Date                                          ...                           \n",
              "1986-01-01            0.0           0.003804  ...            6.50       3.97\n",
              "1986-02-01            0.0           0.003457  ...            6.36       4.42\n",
              "1986-03-01            0.0           0.002902  ...            6.50       4.29\n",
              "1986-04-01            0.0           0.002433  ...            6.18       4.19\n",
              "1986-05-01            0.0           0.002600  ...            6.57       4.39\n",
              "\n",
              "[5 rows x 7 columns]"
            ]
          },
          "metadata": {
            "tags": []
          },
          "execution_count": 3
        }
      ]
    },
    {
      "cell_type": "code",
      "metadata": {
        "colab_type": "code",
        "id": "xprqvcOVsmTI",
        "outputId": "677eb226-35ff-4a83-de70-7de4d04efd20",
        "colab": {
          "base_uri": "https://localhost:8080/",
          "height": 921
        }
      },
      "source": [
        "import numpy as np # linear algebra\n",
        "from scipy import stats # statistics\n",
        "import pandas as pd # data processing, CSV file I/O (e.g. pd.read_csv)\n",
        "import matplotlib.pyplot as plt # plotting tools\n",
        "import seaborn as sns # advanced plotting tools\n",
        "sns.set(style=\"white\")\n",
        "%matplotlib inline\n",
        "def corrPairs(df):\n",
        "    #Pairwise correlation matrix\n",
        "    corr = df.corr() # Compute the correlation matrix\n",
        "    mask = np.zeros_like(corr, dtype=np.bool) # make mask\n",
        "    mask[np.triu_indices_from(mask)] = True # mask upper triangle\n",
        "    sns.heatmap(corr, mask=mask, cmap='coolwarm', center=0, square=True, linewidths=.3, annot=True, cbar=False)\n",
        "\n",
        "#data['WeekOfYear'] = data.index.Date # add week to view correlation\n",
        "\n",
        "plt.figure(figsize=(15,15))\n",
        "corrPairs(data)"
      ],
      "execution_count": 4,
      "outputs": [
        {
          "output_type": "stream",
          "text": [
            "/usr/local/lib/python3.6/dist-packages/statsmodels/tools/_testing.py:19: FutureWarning: pandas.util.testing is deprecated. Use the functions in the public API at pandas.testing instead.\n",
            "  import pandas.util.testing as tm\n"
          ],
          "name": "stderr"
        },
        {
          "output_type": "display_data",
          "data": {
            "image/png": "[encoded data removed]",
            "text/plain": [
              "<Figure size 1080x1080 with 1 Axes>"
            ]
          },
          "metadata": {
            "tags": []
          }
        }
      ]
    },
    {
      "cell_type": "code",
      "metadata": {
        "id": "YOtQCEi_eaT6",
        "colab_type": "code",
        "colab": {
          "base_uri": "https://localhost:8080/",
          "height": 266
        },
        "outputId": "c2d79d27-a78e-43e9-f606-bb71a2bba0f7"
      },
      "source": [
        "data.corr()"
      ],
      "execution_count": 5,
      "outputs": [
        {
          "output_type": "execute_result",
          "data": {
            "text/html": [
              "<div>\n",
              "<style scoped>\n",
              "    .dataframe tbody tr th:only-of-type {\n",
              "        vertical-align: middle;\n",
              "    }\n",
              "\n",
              "    .dataframe tbody tr th {\n",
              "        vertical-align: top;\n",
              "    }\n",
              "\n",
              "    .dataframe thead th {\n",
              "        text-align: right;\n",
              "    }\n",
              "</style>\n",
              "<table border=\"1\" class=\"dataframe\">\n",
              "  <thead>\n",
              "    <tr style=\"text-align: right;\">\n",
              "      <th></th>\n",
              "      <th>Precipitation</th>\n",
              "      <th>Specific_Humidity</th>\n",
              "      <th>Surface Pressure</th>\n",
              "      <th>Surface_Temperature</th>\n",
              "      <th>Clearness_Index</th>\n",
              "      <th>Radiative_Flux</th>\n",
              "      <th>Radiation</th>\n",
              "    </tr>\n",
              "  </thead>\n",
              "  <tbody>\n",
              "    <tr>\n",
              "      <th>Precipitation</th>\n",
              "      <td>1.000000</td>\n",
              "      <td>0.452469</td>\n",
              "      <td>-0.265497</td>\n",
              "      <td>0.115499</td>\n",
              "      <td>-0.458199</td>\n",
              "      <td>0.325617</td>\n",
              "      <td>-0.231088</td>\n",
              "    </tr>\n",
              "    <tr>\n",
              "      <th>Specific_Humidity</th>\n",
              "      <td>0.452469</td>\n",
              "      <td>1.000000</td>\n",
              "      <td>-0.676242</td>\n",
              "      <td>0.501783</td>\n",
              "      <td>-0.514246</td>\n",
              "      <td>0.784656</td>\n",
              "      <td>0.015835</td>\n",
              "    </tr>\n",
              "    <tr>\n",
              "      <th>Surface Pressure</th>\n",
              "      <td>-0.265497</td>\n",
              "      <td>-0.676242</td>\n",
              "      <td>1.000000</td>\n",
              "      <td>-0.891904</td>\n",
              "      <td>0.334998</td>\n",
              "      <td>-0.872245</td>\n",
              "      <td>-0.446472</td>\n",
              "    </tr>\n",
              "    <tr>\n",
              "      <th>Surface_Temperature</th>\n",
              "      <td>0.115499</td>\n",
              "      <td>0.501783</td>\n",
              "      <td>-0.891904</td>\n",
              "      <td>1.000000</td>\n",
              "      <td>-0.208347</td>\n",
              "      <td>0.844994</td>\n",
              "      <td>0.589007</td>\n",
              "    </tr>\n",
              "    <tr>\n",
              "      <th>Clearness_Index</th>\n",
              "      <td>-0.458199</td>\n",
              "      <td>-0.514246</td>\n",
              "      <td>0.334998</td>\n",
              "      <td>-0.208347</td>\n",
              "      <td>1.000000</td>\n",
              "      <td>-0.505756</td>\n",
              "      <td>0.603927</td>\n",
              "    </tr>\n",
              "    <tr>\n",
              "      <th>Radiative_Flux</th>\n",
              "      <td>0.325617</td>\n",
              "      <td>0.784656</td>\n",
              "      <td>-0.872245</td>\n",
              "      <td>0.844994</td>\n",
              "      <td>-0.505756</td>\n",
              "      <td>1.000000</td>\n",
              "      <td>0.272500</td>\n",
              "    </tr>\n",
              "    <tr>\n",
              "      <th>Radiation</th>\n",
              "      <td>-0.231088</td>\n",
              "      <td>0.015835</td>\n",
              "      <td>-0.446472</td>\n",
              "      <td>0.589007</td>\n",
              "      <td>0.603927</td>\n",
              "      <td>0.272500</td>\n",
              "      <td>1.000000</td>\n",
              "    </tr>\n",
              "  </tbody>\n",
              "</table>\n",
              "</div>"
            ],
            "text/plain": [
              "                     Precipitation  ...  Radiation\n",
              "Precipitation             1.000000  ...  -0.231088\n",
              "Specific_Humidity         0.452469  ...   0.015835\n",
              "Surface Pressure         -0.265497  ...  -0.446472\n",
              "Surface_Temperature       0.115499  ...   0.589007\n",
              "Clearness_Index          -0.458199  ...   0.603927\n",
              "Radiative_Flux            0.325617  ...   0.272500\n",
              "Radiation                -0.231088  ...   1.000000\n",
              "\n",
              "[7 rows x 7 columns]"
            ]
          },
          "metadata": {
            "tags": []
          },
          "execution_count": 5
        }
      ]
    },
    {
      "cell_type": "code",
      "metadata": {
        "colab_type": "code",
        "id": "qBV1-L9-q5Dc",
        "colab": {}
      },
      "source": [
        "input_feature= data.iloc[:, :].values\n",
        "input_data = input_feature"
      ],
      "execution_count": 0,
      "outputs": []
    },
    {
      "cell_type": "code",
      "metadata": {
        "colab_type": "code",
        "id": "MY9EkxocrKMX",
        "colab": {}
      },
      "source": [
        "from sklearn.preprocessing import MinMaxScaler\n",
        "sc= MinMaxScaler(feature_range=(0,1))\n",
        "input_data[:,:] = sc.fit_transform(input_feature[:,:])"
      ],
      "execution_count": 0,
      "outputs": []
    },
    {
      "cell_type": "code",
      "metadata": {
        "id": "sDk8CxGXeaUG",
        "colab_type": "code",
        "colab": {
          "base_uri": "https://localhost:8080/",
          "height": 51
        },
        "outputId": "d522da3a-c964-40e5-a53b-53e2999eaf43"
      },
      "source": [
        "input_data[0]"
      ],
      "execution_count": 9,
      "outputs": [
        {
          "output_type": "execute_result",
          "data": {
            "text/plain": [
              "array([0.        , 0.1348561 , 0.76595745, 0.13535197, 0.84615385,\n",
              "       0.12868217, 0.46593674])"
            ]
          },
          "metadata": {
            "tags": []
          },
          "execution_count": 9
        }
      ]
    },
    {
      "cell_type": "code",
      "metadata": {
        "colab_type": "code",
        "id": "wB69oZTVr78-",
        "colab": {}
      },
      "source": [
        "lookback= 50\n",
        "\n",
        "test_size=int(.3 * len(data))\n",
        "X=[]\n",
        "y=[]\n",
        "for i in range(len(data)-lookback-1):\n",
        "    t=[]\n",
        "    for j in range(0,lookback):\n",
        "        \n",
        "        t.append(input_data[[(i+j)], :])\n",
        "    X.append(t)\n",
        "    y.append(input_data[i+ lookback,6])"
      ],
      "execution_count": 0,
      "outputs": []
    },
    {
      "cell_type": "code",
      "metadata": {
        "colab_type": "code",
        "id": "es5k1KL-sCvo",
        "outputId": "67458ab9-2a1d-44db-bde3-2a7acc54def0",
        "colab": {
          "base_uri": "https://localhost:8080/",
          "height": 51
        }
      },
      "source": [
        "X, y= np.array(X), np.array(y)\n",
        "X_test = X[:test_size+lookback]\n",
        "X = X.reshape(X.shape[0],lookback, 7)\n",
        "X_test = X_test.reshape(X_test.shape[0],lookback, 7)\n",
        "print(X.shape)\n",
        "print(X_test.shape)"
      ],
      "execution_count": 11,
      "outputs": [
        {
          "output_type": "stream",
          "text": [
            "(12235, 50, 7)\n",
            "(3735, 50, 7)\n"
          ],
          "name": "stdout"
        }
      ]
    },
    {
      "cell_type": "code",
      "metadata": {
        "colab_type": "code",
        "id": "3MM_YxmdyKHn",
        "outputId": "0e95c80b-3db1-443b-aa19-69a01f80189b",
        "colab": {
          "base_uri": "https://localhost:8080/",
          "height": 446
        }
      },
      "source": [
        "import tensorflow as tf\n",
        "from tensorflow.keras import Sequential\n",
        "from keras.layers import Dense, LSTM\n",
        "model = tf.keras.Sequential()\n",
        "model.add(LSTM(units=30, return_sequences= True, input_shape=(X.shape[1],7)))\n",
        "model.add(LSTM(units=30, return_sequences=True))\n",
        "model.add(LSTM(units=30))\n",
        "model.add(Dense(units=1))\n",
        "model.summary()"
      ],
      "execution_count": 18,
      "outputs": [
        {
          "output_type": "error",
          "ename": "RuntimeError",
          "evalue": "ignored",
          "traceback": [
            "\u001b[0;31m---------------------------------------------------------------------------\u001b[0m",
            "\u001b[0;31mAttributeError\u001b[0m                            Traceback (most recent call last)",
            "\u001b[0;32m/usr/local/lib/python3.6/dist-packages/keras/backend/tensorflow_backend.py\u001b[0m in \u001b[0;36m_get_default_graph\u001b[0;34m()\u001b[0m\n\u001b[1;32m     65\u001b[0m     \u001b[0;32mtry\u001b[0m\u001b[0;34m:\u001b[0m\u001b[0;34m\u001b[0m\u001b[0;34m\u001b[0m\u001b[0m\n\u001b[0;32m---> 66\u001b[0;31m         \u001b[0;32mreturn\u001b[0m \u001b[0mtf\u001b[0m\u001b[0;34m.\u001b[0m\u001b[0mget_default_graph\u001b[0m\u001b[0;34m(\u001b[0m\u001b[0;34m)\u001b[0m\u001b[0;34m\u001b[0m\u001b[0;34m\u001b[0m\u001b[0m\n\u001b[0m\u001b[1;32m     67\u001b[0m     \u001b[0;32mexcept\u001b[0m \u001b[0mAttributeError\u001b[0m\u001b[0;34m:\u001b[0m\u001b[0;34m\u001b[0m\u001b[0;34m\u001b[0m\u001b[0m\n",
            "\u001b[0;31mAttributeError\u001b[0m: module 'tensorflow' has no attribute 'get_default_graph'",
            "\nDuring handling of the above exception, another exception occurred:\n",
            "\u001b[0;31mRuntimeError\u001b[0m                              Traceback (most recent call last)",
            "\u001b[0;32m<ipython-input-18-6be51cc83ae6>\u001b[0m in \u001b[0;36m<module>\u001b[0;34m()\u001b[0m\n\u001b[1;32m      3\u001b[0m \u001b[0;32mfrom\u001b[0m \u001b[0mkeras\u001b[0m\u001b[0;34m.\u001b[0m\u001b[0mlayers\u001b[0m \u001b[0;32mimport\u001b[0m \u001b[0mDense\u001b[0m\u001b[0;34m,\u001b[0m \u001b[0mLSTM\u001b[0m\u001b[0;34m\u001b[0m\u001b[0;34m\u001b[0m\u001b[0m\n\u001b[1;32m      4\u001b[0m \u001b[0mmodel\u001b[0m \u001b[0;34m=\u001b[0m \u001b[0mtf\u001b[0m\u001b[0;34m.\u001b[0m\u001b[0mkeras\u001b[0m\u001b[0;34m.\u001b[0m\u001b[0mSequential\u001b[0m\u001b[0;34m(\u001b[0m\u001b[0;34m)\u001b[0m\u001b[0;34m\u001b[0m\u001b[0;34m\u001b[0m\u001b[0m\n\u001b[0;32m----> 5\u001b[0;31m \u001b[0mmodel\u001b[0m\u001b[0;34m.\u001b[0m\u001b[0madd\u001b[0m\u001b[0;34m(\u001b[0m\u001b[0mLSTM\u001b[0m\u001b[0;34m(\u001b[0m\u001b[0munits\u001b[0m\u001b[0;34m=\u001b[0m\u001b[0;36m30\u001b[0m\u001b[0;34m,\u001b[0m \u001b[0mreturn_sequences\u001b[0m\u001b[0;34m=\u001b[0m \u001b[0;32mTrue\u001b[0m\u001b[0;34m,\u001b[0m \u001b[0minput_shape\u001b[0m\u001b[0;34m=\u001b[0m\u001b[0;34m(\u001b[0m\u001b[0mX\u001b[0m\u001b[0;34m.\u001b[0m\u001b[0mshape\u001b[0m\u001b[0;34m[\u001b[0m\u001b[0;36m1\u001b[0m\u001b[0;34m]\u001b[0m\u001b[0;34m,\u001b[0m\u001b[0;36m7\u001b[0m\u001b[0;34m)\u001b[0m\u001b[0;34m)\u001b[0m\u001b[0;34m)\u001b[0m\u001b[0;34m\u001b[0m\u001b[0;34m\u001b[0m\u001b[0m\n\u001b[0m\u001b[1;32m      6\u001b[0m \u001b[0mmodel\u001b[0m\u001b[0;34m.\u001b[0m\u001b[0madd\u001b[0m\u001b[0;34m(\u001b[0m\u001b[0mLSTM\u001b[0m\u001b[0;34m(\u001b[0m\u001b[0munits\u001b[0m\u001b[0;34m=\u001b[0m\u001b[0;36m30\u001b[0m\u001b[0;34m,\u001b[0m \u001b[0mreturn_sequences\u001b[0m\u001b[0;34m=\u001b[0m\u001b[0;32mTrue\u001b[0m\u001b[0;34m)\u001b[0m\u001b[0;34m)\u001b[0m\u001b[0;34m\u001b[0m\u001b[0;34m\u001b[0m\u001b[0m\n\u001b[1;32m      7\u001b[0m \u001b[0mmodel\u001b[0m\u001b[0;34m.\u001b[0m\u001b[0madd\u001b[0m\u001b[0;34m(\u001b[0m\u001b[0mLSTM\u001b[0m\u001b[0;34m(\u001b[0m\u001b[0munits\u001b[0m\u001b[0;34m=\u001b[0m\u001b[0;36m30\u001b[0m\u001b[0;34m)\u001b[0m\u001b[0;34m)\u001b[0m\u001b[0;34m\u001b[0m\u001b[0;34m\u001b[0m\u001b[0m\n",
            "\u001b[0;32m/usr/local/lib/python3.6/dist-packages/keras/legacy/interfaces.py\u001b[0m in \u001b[0;36mwrapper\u001b[0;34m(*args, **kwargs)\u001b[0m\n\u001b[1;32m     89\u001b[0m                 warnings.warn('Update your `' + object_name + '` call to the ' +\n\u001b[1;32m     90\u001b[0m                               'Keras 2 API: ' + signature, stacklevel=2)\n\u001b[0;32m---> 91\u001b[0;31m             \u001b[0;32mreturn\u001b[0m \u001b[0mfunc\u001b[0m\u001b[0;34m(\u001b[0m\u001b[0;34m*\u001b[0m\u001b[0margs\u001b[0m\u001b[0;34m,\u001b[0m \u001b[0;34m**\u001b[0m\u001b[0mkwargs\u001b[0m\u001b[0;34m)\u001b[0m\u001b[0;34m\u001b[0m\u001b[0;34m\u001b[0m\u001b[0m\n\u001b[0m\u001b[1;32m     92\u001b[0m         \u001b[0mwrapper\u001b[0m\u001b[0;34m.\u001b[0m\u001b[0m_original_function\u001b[0m \u001b[0;34m=\u001b[0m \u001b[0mfunc\u001b[0m\u001b[0;34m\u001b[0m\u001b[0;34m\u001b[0m\u001b[0m\n\u001b[1;32m     93\u001b[0m         \u001b[0;32mreturn\u001b[0m \u001b[0mwrapper\u001b[0m\u001b[0;34m\u001b[0m\u001b[0;34m\u001b[0m\u001b[0m\n",
            "\u001b[0;32m/usr/local/lib/python3.6/dist-packages/keras/layers/recurrent.py\u001b[0m in \u001b[0;36m__init__\u001b[0;34m(self, units, activation, recurrent_activation, use_bias, kernel_initializer, recurrent_initializer, bias_initializer, unit_forget_bias, kernel_regularizer, recurrent_regularizer, bias_regularizer, activity_regularizer, kernel_constraint, recurrent_constraint, bias_constraint, dropout, recurrent_dropout, implementation, return_sequences, return_state, go_backwards, stateful, unroll, **kwargs)\u001b[0m\n\u001b[1;32m   2220\u001b[0m                         \u001b[0mdropout\u001b[0m\u001b[0;34m=\u001b[0m\u001b[0mdropout\u001b[0m\u001b[0;34m,\u001b[0m\u001b[0;34m\u001b[0m\u001b[0;34m\u001b[0m\u001b[0m\n\u001b[1;32m   2221\u001b[0m                         \u001b[0mrecurrent_dropout\u001b[0m\u001b[0;34m=\u001b[0m\u001b[0mrecurrent_dropout\u001b[0m\u001b[0;34m,\u001b[0m\u001b[0;34m\u001b[0m\u001b[0;34m\u001b[0m\u001b[0m\n\u001b[0;32m-> 2222\u001b[0;31m                         implementation=implementation)\n\u001b[0m\u001b[1;32m   2223\u001b[0m         super(LSTM, self).__init__(cell,\n\u001b[1;32m   2224\u001b[0m                                    \u001b[0mreturn_sequences\u001b[0m\u001b[0;34m=\u001b[0m\u001b[0mreturn_sequences\u001b[0m\u001b[0;34m,\u001b[0m\u001b[0;34m\u001b[0m\u001b[0;34m\u001b[0m\u001b[0m\n",
            "\u001b[0;32m/usr/local/lib/python3.6/dist-packages/keras/layers/recurrent.py\u001b[0m in \u001b[0;36m__init__\u001b[0;34m(self, units, activation, recurrent_activation, use_bias, kernel_initializer, recurrent_initializer, bias_initializer, unit_forget_bias, kernel_regularizer, recurrent_regularizer, bias_regularizer, kernel_constraint, recurrent_constraint, bias_constraint, dropout, recurrent_dropout, implementation, **kwargs)\u001b[0m\n\u001b[1;32m   1867\u001b[0m                  \u001b[0mimplementation\u001b[0m\u001b[0;34m=\u001b[0m\u001b[0;36m1\u001b[0m\u001b[0;34m,\u001b[0m\u001b[0;34m\u001b[0m\u001b[0;34m\u001b[0m\u001b[0m\n\u001b[1;32m   1868\u001b[0m                  **kwargs):\n\u001b[0;32m-> 1869\u001b[0;31m         \u001b[0msuper\u001b[0m\u001b[0;34m(\u001b[0m\u001b[0mLSTMCell\u001b[0m\u001b[0;34m,\u001b[0m \u001b[0mself\u001b[0m\u001b[0;34m)\u001b[0m\u001b[0;34m.\u001b[0m\u001b[0m__init__\u001b[0m\u001b[0;34m(\u001b[0m\u001b[0;34m**\u001b[0m\u001b[0mkwargs\u001b[0m\u001b[0;34m)\u001b[0m\u001b[0;34m\u001b[0m\u001b[0;34m\u001b[0m\u001b[0m\n\u001b[0m\u001b[1;32m   1870\u001b[0m         \u001b[0mself\u001b[0m\u001b[0;34m.\u001b[0m\u001b[0munits\u001b[0m \u001b[0;34m=\u001b[0m \u001b[0munits\u001b[0m\u001b[0;34m\u001b[0m\u001b[0;34m\u001b[0m\u001b[0m\n\u001b[1;32m   1871\u001b[0m         \u001b[0mself\u001b[0m\u001b[0;34m.\u001b[0m\u001b[0mactivation\u001b[0m \u001b[0;34m=\u001b[0m \u001b[0mactivations\u001b[0m\u001b[0;34m.\u001b[0m\u001b[0mget\u001b[0m\u001b[0;34m(\u001b[0m\u001b[0mactivation\u001b[0m\u001b[0;34m)\u001b[0m\u001b[0;34m\u001b[0m\u001b[0;34m\u001b[0m\u001b[0m\n",
            "\u001b[0;32m/usr/local/lib/python3.6/dist-packages/keras/engine/base_layer.py\u001b[0m in \u001b[0;36m__init__\u001b[0;34m(self, **kwargs)\u001b[0m\n\u001b[1;32m    130\u001b[0m         \u001b[0;32mif\u001b[0m \u001b[0;32mnot\u001b[0m \u001b[0mname\u001b[0m\u001b[0;34m:\u001b[0m\u001b[0;34m\u001b[0m\u001b[0;34m\u001b[0m\u001b[0m\n\u001b[1;32m    131\u001b[0m             \u001b[0mprefix\u001b[0m \u001b[0;34m=\u001b[0m \u001b[0mself\u001b[0m\u001b[0;34m.\u001b[0m\u001b[0m__class__\u001b[0m\u001b[0;34m.\u001b[0m\u001b[0m__name__\u001b[0m\u001b[0;34m\u001b[0m\u001b[0;34m\u001b[0m\u001b[0m\n\u001b[0;32m--> 132\u001b[0;31m             \u001b[0mname\u001b[0m \u001b[0;34m=\u001b[0m \u001b[0m_to_snake_case\u001b[0m\u001b[0;34m(\u001b[0m\u001b[0mprefix\u001b[0m\u001b[0;34m)\u001b[0m \u001b[0;34m+\u001b[0m \u001b[0;34m'_'\u001b[0m \u001b[0;34m+\u001b[0m \u001b[0mstr\u001b[0m\u001b[0;34m(\u001b[0m\u001b[0mK\u001b[0m\u001b[0;34m.\u001b[0m\u001b[0mget_uid\u001b[0m\u001b[0;34m(\u001b[0m\u001b[0mprefix\u001b[0m\u001b[0;34m)\u001b[0m\u001b[0;34m)\u001b[0m\u001b[0;34m\u001b[0m\u001b[0;34m\u001b[0m\u001b[0m\n\u001b[0m\u001b[1;32m    133\u001b[0m         \u001b[0mself\u001b[0m\u001b[0;34m.\u001b[0m\u001b[0mname\u001b[0m \u001b[0;34m=\u001b[0m \u001b[0mname\u001b[0m\u001b[0;34m\u001b[0m\u001b[0;34m\u001b[0m\u001b[0m\n\u001b[1;32m    134\u001b[0m \u001b[0;34m\u001b[0m\u001b[0m\n",
            "\u001b[0;32m/usr/local/lib/python3.6/dist-packages/keras/backend/tensorflow_backend.py\u001b[0m in \u001b[0;36mget_uid\u001b[0;34m(prefix)\u001b[0m\n\u001b[1;32m     84\u001b[0m     \"\"\"\n\u001b[1;32m     85\u001b[0m     \u001b[0;32mglobal\u001b[0m \u001b[0m_GRAPH_UID_DICTS\u001b[0m\u001b[0;34m\u001b[0m\u001b[0;34m\u001b[0m\u001b[0m\n\u001b[0;32m---> 86\u001b[0;31m     \u001b[0mgraph\u001b[0m \u001b[0;34m=\u001b[0m \u001b[0m_get_default_graph\u001b[0m\u001b[0;34m(\u001b[0m\u001b[0;34m)\u001b[0m\u001b[0;34m\u001b[0m\u001b[0;34m\u001b[0m\u001b[0m\n\u001b[0m\u001b[1;32m     87\u001b[0m     \u001b[0;32mif\u001b[0m \u001b[0mgraph\u001b[0m \u001b[0;32mnot\u001b[0m \u001b[0;32min\u001b[0m \u001b[0m_GRAPH_UID_DICTS\u001b[0m\u001b[0;34m:\u001b[0m\u001b[0;34m\u001b[0m\u001b[0;34m\u001b[0m\u001b[0m\n\u001b[1;32m     88\u001b[0m         \u001b[0m_GRAPH_UID_DICTS\u001b[0m\u001b[0;34m[\u001b[0m\u001b[0mgraph\u001b[0m\u001b[0;34m]\u001b[0m \u001b[0;34m=\u001b[0m \u001b[0mdefaultdict\u001b[0m\u001b[0;34m(\u001b[0m\u001b[0mint\u001b[0m\u001b[0;34m)\u001b[0m\u001b[0;34m\u001b[0m\u001b[0;34m\u001b[0m\u001b[0m\n",
            "\u001b[0;32m/usr/local/lib/python3.6/dist-packages/keras/backend/tensorflow_backend.py\u001b[0m in \u001b[0;36m_get_default_graph\u001b[0;34m()\u001b[0m\n\u001b[1;32m     67\u001b[0m     \u001b[0;32mexcept\u001b[0m \u001b[0mAttributeError\u001b[0m\u001b[0;34m:\u001b[0m\u001b[0;34m\u001b[0m\u001b[0;34m\u001b[0m\u001b[0m\n\u001b[1;32m     68\u001b[0m         raise RuntimeError(\n\u001b[0;32m---> 69\u001b[0;31m             \u001b[0;34m'It looks like you are trying to use '\u001b[0m\u001b[0;34m\u001b[0m\u001b[0;34m\u001b[0m\u001b[0m\n\u001b[0m\u001b[1;32m     70\u001b[0m             \u001b[0;34m'a version of multi-backend Keras that '\u001b[0m\u001b[0;34m\u001b[0m\u001b[0;34m\u001b[0m\u001b[0m\n\u001b[1;32m     71\u001b[0m             \u001b[0;34m'does not support TensorFlow 2.0. We recommend '\u001b[0m\u001b[0;34m\u001b[0m\u001b[0;34m\u001b[0m\u001b[0m\n",
            "\u001b[0;31mRuntimeError\u001b[0m: It looks like you are trying to use a version of multi-backend Keras that does not support TensorFlow 2.0. We recommend using `tf.keras`, or alternatively, downgrading to TensorFlow 1.14."
          ]
        }
      ]
    },
    {
      "cell_type": "code",
      "metadata": {
        "colab_type": "code",
        "id": "igq5T62qyOxB",
        "colab": {}
      },
      "source": [
        "def r2_score(y_true, y_pred):\n",
        "    from keras import backend as K\n",
        "    SS_res =  K.sum(K.square( y_true-y_pred ))\n",
        "    SS_tot = K.sum(K.square( y_true - K.mean(y_true) ) )\n",
        "    return ( 1 - SS_res/(SS_tot + K.epsilon()) )\n",
        "\n",
        "model.compile(optimizer='adam', loss='mean_squared_error', metrics=['mae', 'mape', r2_score])"
      ],
      "execution_count": 0,
      "outputs": []
    },
    {
      "cell_type": "code",
      "metadata": {
        "colab_type": "code",
        "id": "FvtUS0QcyXqF",
        "outputId": "4e570fc5-4f85-448c-db8b-edf1784607e6",
        "colab": {
          "base_uri": "https://localhost:8080/",
          "height": 714
        }
      },
      "source": [
        "history = model.fit(X, y, epochs=50, batch_size=200)"
      ],
      "execution_count": 0,
      "outputs": [
        {
          "output_type": "stream",
          "text": [
            "Epoch 1/50\n",
            "12235/12235 [==============================] - 8s 645us/step - loss: 0.0349 - mean_absolute_error: 0.1397 - mean_absolute_percentage_error: 44588.1877 - r2_score: -0.1520\n",
            "Epoch 2/50\n",
            "12235/12235 [==============================] - 6s 522us/step - loss: 0.0172 - mean_absolute_error: 0.0971 - mean_absolute_percentage_error: 35830.3313 - r2_score: 0.4294\n",
            "Epoch 3/50\n",
            "12235/12235 [==============================] - 6s 519us/step - loss: 0.0164 - mean_absolute_error: 0.0940 - mean_absolute_percentage_error: 36720.1344 - r2_score: 0.4583\n",
            "Epoch 4/50\n",
            "12235/12235 [==============================] - 7s 550us/step - loss: 0.0157 - mean_absolute_error: 0.0907 - mean_absolute_percentage_error: 34804.1890 - r2_score: 0.4772\n",
            "Epoch 5/50\n",
            "12235/12235 [==============================] - 7s 533us/step - loss: 0.0152 - mean_absolute_error: 0.0881 - mean_absolute_percentage_error: 37203.0757 - r2_score: 0.4949\n",
            "Epoch 6/50\n",
            "12235/12235 [==============================] - 7s 541us/step - loss: 0.0153 - mean_absolute_error: 0.0884 - mean_absolute_percentage_error: 38433.0824 - r2_score: 0.4967\n",
            "Epoch 7/50\n",
            "12235/12235 [==============================] - 7s 535us/step - loss: 0.0148 - mean_absolute_error: 0.0856 - mean_absolute_percentage_error: 36093.8101 - r2_score: 0.5099\n",
            "Epoch 8/50\n",
            "12235/12235 [==============================] - 6s 523us/step - loss: 0.0148 - mean_absolute_error: 0.0859 - mean_absolute_percentage_error: 35745.7245 - r2_score: 0.5096\n",
            "Epoch 9/50\n",
            "12235/12235 [==============================] - 6s 523us/step - loss: 0.0148 - mean_absolute_error: 0.0856 - mean_absolute_percentage_error: 34911.3001 - r2_score: 0.5108\n",
            "Epoch 10/50\n",
            "12235/12235 [==============================] - 6s 520us/step - loss: 0.0146 - mean_absolute_error: 0.0852 - mean_absolute_percentage_error: 35517.9767 - r2_score: 0.5172\n",
            "Epoch 11/50\n",
            "12235/12235 [==============================] - 7s 541us/step - loss: 0.0148 - mean_absolute_error: 0.0864 - mean_absolute_percentage_error: 37020.2355 - r2_score: 0.5085\n",
            "Epoch 12/50\n",
            "12235/12235 [==============================] - 6s 517us/step - loss: 0.0145 - mean_absolute_error: 0.0848 - mean_absolute_percentage_error: 34160.1529 - r2_score: 0.5186\n",
            "Epoch 13/50\n",
            "12235/12235 [==============================] - 7s 534us/step - loss: 0.0145 - mean_absolute_error: 0.0851 - mean_absolute_percentage_error: 33399.5378 - r2_score: 0.5198\n",
            "Epoch 14/50\n",
            "12235/12235 [==============================] - 7s 590us/step - loss: 0.0145 - mean_absolute_error: 0.0855 - mean_absolute_percentage_error: 33099.5447 - r2_score: 0.5202\n",
            "Epoch 15/50\n",
            "12235/12235 [==============================] - 7s 552us/step - loss: 0.0143 - mean_absolute_error: 0.0841 - mean_absolute_percentage_error: 33095.5417 - r2_score: 0.5257\n",
            "Epoch 16/50\n",
            "12235/12235 [==============================] - 7s 554us/step - loss: 0.0142 - mean_absolute_error: 0.0837 - mean_absolute_percentage_error: 32695.4905 - r2_score: 0.5275\n",
            "Epoch 17/50\n",
            "12235/12235 [==============================] - 6s 519us/step - loss: 0.0141 - mean_absolute_error: 0.0833 - mean_absolute_percentage_error: 31822.7569 - r2_score: 0.5317\n",
            "Epoch 18/50\n",
            "12235/12235 [==============================] - 7s 564us/step - loss: 0.0136 - mean_absolute_error: 0.0816 - mean_absolute_percentage_error: 31574.7588 - r2_score: 0.5488\n",
            "Epoch 19/50\n",
            "12235/12235 [==============================] - 8s 634us/step - loss: 0.0133 - mean_absolute_error: 0.0805 - mean_absolute_percentage_error: 30415.7409 - r2_score: 0.5603\n",
            "Epoch 20/50\n",
            "12235/12235 [==============================] - 7s 567us/step - loss: 0.0128 - mean_absolute_error: 0.0788 - mean_absolute_percentage_error: 29948.3263 - r2_score: 0.5748\n",
            "Epoch 21/50\n",
            "12235/12235 [==============================] - 7s 554us/step - loss: 0.0124 - mean_absolute_error: 0.0770 - mean_absolute_percentage_error: 29777.2304 - r2_score: 0.5868\n",
            "Epoch 22/50\n",
            "12235/12235 [==============================] - 7s 537us/step - loss: 0.0126 - mean_absolute_error: 0.0782 - mean_absolute_percentage_error: 28655.6019 - r2_score: 0.5819\n",
            "Epoch 23/50\n",
            "12235/12235 [==============================] - 7s 536us/step - loss: 0.0124 - mean_absolute_error: 0.0767 - mean_absolute_percentage_error: 29507.1975 - r2_score: 0.5897\n",
            "Epoch 24/50\n",
            "12235/12235 [==============================] - 7s 538us/step - loss: 0.0123 - mean_absolute_error: 0.0767 - mean_absolute_percentage_error: 30371.3835 - r2_score: 0.5926\n",
            "Epoch 25/50\n",
            "12235/12235 [==============================] - 7s 538us/step - loss: 0.0123 - mean_absolute_error: 0.0763 - mean_absolute_percentage_error: 28820.1153 - r2_score: 0.5918\n",
            "Epoch 26/50\n",
            "12235/12235 [==============================] - 7s 563us/step - loss: 0.0124 - mean_absolute_error: 0.0773 - mean_absolute_percentage_error: 31186.3641 - r2_score: 0.5882\n",
            "Epoch 27/50\n",
            "12235/12235 [==============================] - 7s 535us/step - loss: 0.0122 - mean_absolute_error: 0.0762 - mean_absolute_percentage_error: 29462.1980 - r2_score: 0.5939\n",
            "Epoch 28/50\n",
            "12235/12235 [==============================] - 7s 562us/step - loss: 0.0122 - mean_absolute_error: 0.0758 - mean_absolute_percentage_error: 29100.5924 - r2_score: 0.5970\n",
            "Epoch 29/50\n",
            "12235/12235 [==============================] - 8s 646us/step - loss: 0.0122 - mean_absolute_error: 0.0761 - mean_absolute_percentage_error: 29871.1395 - r2_score: 0.5963\n",
            "Epoch 30/50\n",
            "12235/12235 [==============================] - 8s 676us/step - loss: 0.0122 - mean_absolute_error: 0.0760 - mean_absolute_percentage_error: 28772.3079 - r2_score: 0.5955\n",
            "Epoch 31/50\n",
            "12235/12235 [==============================] - 8s 619us/step - loss: 0.0122 - mean_absolute_error: 0.0763 - mean_absolute_percentage_error: 30160.4268 - r2_score: 0.5956\n",
            "Epoch 32/50\n",
            "12235/12235 [==============================] - 7s 559us/step - loss: 0.0123 - mean_absolute_error: 0.0768 - mean_absolute_percentage_error: 27111.3159 - r2_score: 0.5931\n",
            "Epoch 33/50\n",
            "12235/12235 [==============================] - 7s 552us/step - loss: 0.0121 - mean_absolute_error: 0.0763 - mean_absolute_percentage_error: 26938.2878 - r2_score: 0.5990\n",
            "Epoch 34/50\n",
            "12235/12235 [==============================] - 7s 607us/step - loss: 0.0121 - mean_absolute_error: 0.0756 - mean_absolute_percentage_error: 27859.7137 - r2_score: 0.5998\n",
            "Epoch 35/50\n",
            "12235/12235 [==============================] - 7s 586us/step - loss: 0.0122 - mean_absolute_error: 0.0763 - mean_absolute_percentage_error: 27744.6225 - r2_score: 0.5963\n",
            "Epoch 36/50\n",
            "12235/12235 [==============================] - 7s 549us/step - loss: 0.0121 - mean_absolute_error: 0.0758 - mean_absolute_percentage_error: 29578.5404 - r2_score: 0.5983\n",
            "Epoch 37/50\n",
            "12235/12235 [==============================] - 7s 560us/step - loss: 0.0121 - mean_absolute_error: 0.0759 - mean_absolute_percentage_error: 28751.6353 - r2_score: 0.5989\n",
            "Epoch 38/50\n",
            "12235/12235 [==============================] - 7s 548us/step - loss: 0.0121 - mean_absolute_error: 0.0761 - mean_absolute_percentage_error: 29300.0092 - r2_score: 0.5979\n",
            "Epoch 39/50\n",
            "12235/12235 [==============================] - 7s 577us/step - loss: 0.0124 - mean_absolute_error: 0.0776 - mean_absolute_percentage_error: 28726.7989 - r2_score: 0.5893\n",
            "Epoch 40/50\n",
            "12235/12235 [==============================] - 7s 556us/step - loss: 0.0121 - mean_absolute_error: 0.0759 - mean_absolute_percentage_error: 28836.3080 - r2_score: 0.5994\n",
            "Epoch 41/50\n",
            "12235/12235 [==============================] - 7s 540us/step - loss: 0.0120 - mean_absolute_error: 0.0756 - mean_absolute_percentage_error: 28298.3380 - r2_score: 0.6018\n",
            "Epoch 42/50\n",
            "12235/12235 [==============================] - 7s 604us/step - loss: 0.0121 - mean_absolute_error: 0.0759 - mean_absolute_percentage_error: 28958.7853 - r2_score: 0.5989\n",
            "Epoch 43/50\n",
            "12235/12235 [==============================] - 7s 601us/step - loss: 0.0120 - mean_absolute_error: 0.0754 - mean_absolute_percentage_error: 28071.0983 - r2_score: 0.6028\n",
            "Epoch 44/50\n",
            "12235/12235 [==============================] - 7s 544us/step - loss: 0.0120 - mean_absolute_error: 0.0757 - mean_absolute_percentage_error: 28866.5899 - r2_score: 0.6022\n",
            "Epoch 45/50\n",
            "12235/12235 [==============================] - 7s 559us/step - loss: 0.0121 - mean_absolute_error: 0.0759 - mean_absolute_percentage_error: 29070.5836 - r2_score: 0.5988\n",
            "Epoch 46/50\n"
          ],
          "name": "stdout"
        },
        {
          "output_type": "stream",
          "text": [
            "12235/12235 [==============================] - 7s 611us/step - loss: 0.0121 - mean_absolute_error: 0.0758 - mean_absolute_percentage_error: 30584.9698 - r2_score: 0.5989\n",
            "Epoch 47/50\n",
            "12235/12235 [==============================] - 7s 563us/step - loss: 0.0120 - mean_absolute_error: 0.0755 - mean_absolute_percentage_error: 29051.1978 - r2_score: 0.6030\n",
            "Epoch 48/50\n",
            "12235/12235 [==============================] - 7s 536us/step - loss: 0.0121 - mean_absolute_error: 0.0758 - mean_absolute_percentage_error: 27802.1176 - r2_score: 0.6002\n",
            "Epoch 49/50\n",
            "12235/12235 [==============================] - 7s 539us/step - loss: 0.0121 - mean_absolute_error: 0.0759 - mean_absolute_percentage_error: 28720.2465 - r2_score: 0.6004\n",
            "Epoch 50/50\n",
            "12235/12235 [==============================] - 7s 544us/step - loss: 0.0120 - mean_absolute_error: 0.0759 - mean_absolute_percentage_error: 27720.8078 - r2_score: 0.5998\n"
          ],
          "name": "stdout"
        }
      ]
    },
    {
      "cell_type": "code",
      "metadata": {
        "colab_type": "code",
        "id": "E0h_TMbi0nyo",
        "colab": {}
      },
      "source": [
        "predicted_value= model.predict(X_test)"
      ],
      "execution_count": 0,
      "outputs": []
    },
    {
      "cell_type": "code",
      "metadata": {
        "id": "UrR3mKIDeaUl",
        "colab_type": "code",
        "colab": {},
        "outputId": "d0b8bdfd-2894-4db8-a2ca-54b77ab4f94c"
      },
      "source": [
        "history_dict = history.history\n",
        "print(history_dict.keys())\n",
        "fig, axs = plt.subplots(4)\n",
        "fig.suptitle('Vertically stacked subplots')\n",
        "axs[0].plot(history.history['loss'])\n",
        "axs[1].plot(history.history['mae'])\n",
        "axs[2].plot(history.history['mape'])\n",
        "axs[3].plot(history.history['r2_score'])\n",
        "# plt.plot(history.history['mean_absolute_error'])\n",
        "# plt.plot(history.history['mean_absolute_percentage_error'])\n",
        "# plt.plot(history.history['r2_score'])"
      ],
      "execution_count": 0,
      "outputs": [
        {
          "output_type": "stream",
          "text": [
            "dict_keys(['loss', 'mean_absolute_error', 'mean_absolute_percentage_error', 'r2_score'])\n"
          ],
          "name": "stdout"
        },
        {
          "output_type": "execute_result",
          "data": {
            "text/plain": [
              "[<matplotlib.lines.Line2D at 0x2430c0a5d30>]"
            ]
          },
          "metadata": {
            "tags": []
          },
          "execution_count": 63
        },
        {
          "output_type": "display_data",
          "data": {
            "image/png": "[encoded data removed]",
            "text/plain": [
              "<Figure size 432x288 with 3 Axes>"
            ]
          },
          "metadata": {
            "tags": [],
            "needs_background": "light"
          }
        }
      ]
    },
    {
      "cell_type": "code",
      "metadata": {
        "colab_type": "code",
        "id": "J25iSPXRyi7v",
        "outputId": "9bb1b21d-cb25-4d1e-b9e4-eeb8356a2af0",
        "colab": {
          "base_uri": "https://localhost:8080/",
          "height": 301
        }
      },
      "source": [
        "plt.plot(predicted_value, color= 'red')\n",
        "plt.plot(input_data[lookback:test_size+(2*lookback),6], color='green')\n",
        "plt.title(\"Actual vs Predicted\")\n",
        "plt.xlabel(\"Time\")\n",
        "plt.ylabel(\"Radiation\")\n",
        "plt.show()"
      ],
      "execution_count": 0,
      "outputs": [
        {
          "output_type": "display_data",
          "data": {
            "image/png": "[encoded data removed]",
            "text/plain": [
              "<Figure size 432x288 with 1 Axes>"
            ]
          },
          "metadata": {
            "tags": [],
            "needs_background": "light"
          }
        }
      ]
    }
  ]
}
